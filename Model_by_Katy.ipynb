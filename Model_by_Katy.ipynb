{
  "cells": [
    {
      "cell_type": "markdown",
      "metadata": {
        "id": "view-in-github",
        "colab_type": "text"
      },
      "source": [
        "<a href=\"https://colab.research.google.com/github/katygz/News-Recommendation-System-Based-on-User-History-Browsing-Clicks/blob/main/Model_by_Katy.ipynb\" target=\"_parent\"><img src=\"https://colab.research.google.com/assets/colab-badge.svg\" alt=\"Open In Colab\"/></a>"
      ]
    },
    {
      "cell_type": "markdown",
      "metadata": {
        "id": "nHLUjE2Lssg-"
      },
      "source": [
        "## Introduction\n",
        "Based on news recommendations in a news app, the goal is to **predict the user's future click behavior based on the historical browsing and clicking data, specifically predicting the news article of the user's last click**.\n",
        "\n",
        "## Data Overview\n",
        "The user interaction data involves 300,000 users, nearly 3 million clicks, and over 360,000 different news articles, with each article having a corresponding embedding vector representation.\n",
        "\n",
        "From this, we extract the click logs of 200,000 users as the training set, 50,000 users as Test Set A, and 50,000 users as Test Set B.\n",
        "\n",
        "# Data Tables\n",
        "\n",
        "- **train_click_log.csv**: Training set user click logs\n",
        "- **testA_click_log.csv**: Test Set A user click logs\n",
        "- **articles.csv**: News article information\n",
        "- **articles_emb.csv**: News article embedding vector representations\n",
        "\n",
        "|        **Field**        |         **Description**          |\n",
        "| :---------------------: | :------------------------------: |\n",
        "|         user_id         |             User ID              |\n",
        "|    click_article_id     |         Clicked Article ID        |\n",
        "|     click_timestamp     |        Click Timestamp           |\n",
        "|    click_environment    |        Click Environment         |\n",
        "|    click_deviceGroup    |         Click Device Group       |\n",
        "|        click_os         |          Click Operating System  |\n",
        "|      click_country      |           Click Country          |\n",
        "|      click_region       |           Click Region           |\n",
        "|   click_referrer_type   |         Click Referrer Type      |\n",
        "|       article_id        |  Article ID, matches click_article_id |\n",
        "|       category_id       |       Article Category ID        |\n",
        "|      created_at_ts      |       Article Creation Timestamp |\n",
        "|       words_count       |          Word Count              |\n",
        "| emb_1, emb_2, ..., emb_249 |   Article Embedding Vector Representation |\n",
        "\n",
        "## Evaluation Methodology\n",
        "The final submission format requires recommending **five articles for each user**, sorted in descending order based on click probability.\n",
        "\n",
        "Since each user has only one actual last-clicked article, we evaluate whether the correct article is among the five recommendations.\n",
        "\n",
        "For example, for user1, the submission might look like:\n",
        "> user1, article1, article2, article3, article4, article5\n",
        "\n",
        "The scoring formula is as follows:\n",
        "$$\n",
        "score(user) = \\sum_{k=1}^5 \\frac{s(user, k)}{k}\n",
        "$$\n",
        "\n",
        "- If `article1` is the correct article, i.e., the actual clicked article, then \\( s(user1, 1) = 1 \\) and \\( s(user1, 2-5) = 0 \\).  \n",
        "- If `article2` is the correct article, then \\( s(user, 2) = \\frac{1}{2} \\) and \\( s(user, 1, 3, 4, 5) = 0 \\).  \n",
        "The score reflects the **inverse rank** of the correct prediction—hits at higher ranks yield higher scores. If there is no hit, \\( score(user1) = 0 \\).\n",
        "\n",
        "## Project Understanding\n",
        "From the project overview, the objective is clear: **predict the last-clicked news article based on the user’s historical data**. This problem differs from traditional structured data projects in two ways:\n",
        "\n",
        "1. **Objective**: The goal is to recommend news articles, not predict a number or category, as in typical classification or regression problems.\n",
        "2. **Data Structure**: Unlike structured data with features and labels, we are working with click logs derived from real-world user behavior.\n",
        "\n",
        "Thus, the problem needs to be transformed into a **supervised learning problem (features + labels)** to leverage ML and DL models for prediction.\n",
        "\n",
        "Key questions to address:\n",
        "- **How can this be transformed into a supervised learning problem?**\n",
        "- **What type of supervised learning problem should it become?**\n",
        "- **What features can we leverage?**\n",
        "- **What models should we consider?**\n",
        "- **How can we efficiently handle the scale of recommendations for thousands of articles and users?**\n",
        "\n",
        "These questions will shape the problem-solving process. For example, can we treat this as a **multi-class classification problem** (predicting 1 out of 360,000 classes)? This is challenging due to the large number of classes, so we need an alternative approach.\n",
        "\n",
        "Since we aim to predict the last-clicked article, **if we can estimate the click probability for each article** given a user's history, the problem becomes manageable. The article with the highest probability is the predicted last-clicked article. This reformulates the task into a **click-through rate (CTR) prediction problem**, which is well-suited to supervised learning techniques like logistic regression.\n",
        "\n",
        "With this in mind, the solution involves building a **classification model** to predict the click probability for a user-article pair. This leads to several sub-questions:\n",
        "- **How do we convert the problem into a supervised learning format?**\n",
        "- **How do we prepare the training and test datasets?**\n",
        "- **What features can be used?**\n",
        "- **What models should we explore?**\n",
        "- **How do we handle the massive number of articles and users?**\n",
        "- **What strategies can we use for prediction and recommendation?**\n",
        "\n",
        "## Multi-Channel Recall\n",
        "\n",
        "A **multi-channel recall** strategy involves using multiple strategies, features, or simple models to generate candidate sets from different perspectives. These sets are merged for further ranking. This approach balances **computation speed** and **recall rate**. Simple strategies ensure fast recall, while diverse strategies maintain high recall, preserving ranking performance.\n",
        "\n",
        "The figure below illustrates the concept of multi-channel recall. Since the strategies operate independently, they can be executed concurrently using multi-threading for improved efficiency.\n",
        "\n",
        "\n"
      ]
    },
    {
      "cell_type": "code",
      "execution_count": 1,
      "metadata": {
        "colab": {
          "base_uri": "https://localhost:8080/"
        },
        "id": "_UBNwKBqvFed",
        "outputId": "59187447-0b9c-4f87-e912-6045c18f69a9"
      },
      "outputs": [
        {
          "output_type": "stream",
          "name": "stdout",
          "text": [
            "\u001b[2K   \u001b[90m━━━━━━━━━━━━━━━━━━━━━━━━━━━━━━━━━━━━━━━━\u001b[0m \u001b[32m497.6/497.6 MB\u001b[0m \u001b[31m2.9 MB/s\u001b[0m eta \u001b[36m0:00:00\u001b[0m\n",
            "\u001b[2K   \u001b[90m━━━━━━━━━━━━━━━━━━━━━━━━━━━━━━━━━━━━━━━━\u001b[0m \u001b[32m462.5/462.5 kB\u001b[0m \u001b[31m10.6 MB/s\u001b[0m eta \u001b[36m0:00:00\u001b[0m\n",
            "\u001b[2K   \u001b[90m━━━━━━━━━━━━━━━━━━━━━━━━━━━━━━━━━━━━━━━━\u001b[0m \u001b[32m1.4/1.4 MB\u001b[0m \u001b[31m25.5 MB/s\u001b[0m eta \u001b[36m0:00:00\u001b[0m\n",
            "\u001b[2K   \u001b[90m━━━━━━━━━━━━━━━━━━━━━━━━━━━━━━━━━━━━━━━━\u001b[0m \u001b[32m42.6/42.6 kB\u001b[0m \u001b[31m1.5 MB/s\u001b[0m eta \u001b[36m0:00:00\u001b[0m\n",
            "\u001b[2K   \u001b[90m━━━━━━━━━━━━━━━━━━━━━━━━━━━━━━━━━━━━━━━━\u001b[0m \u001b[32m5.8/5.8 MB\u001b[0m \u001b[31m44.4 MB/s\u001b[0m eta \u001b[36m0:00:00\u001b[0m\n",
            "\u001b[2K   \u001b[90m━━━━━━━━━━━━━━━━━━━━━━━━━━━━━━━━━━━━━━━━\u001b[0m \u001b[32m4.9/4.9 MB\u001b[0m \u001b[31m27.6 MB/s\u001b[0m eta \u001b[36m0:00:00\u001b[0m\n",
            "\u001b[2K   \u001b[90m━━━━━━━━━━━━━━━━━━━━━━━━━━━━━━━━━━━━━━━━\u001b[0m \u001b[32m781.3/781.3 kB\u001b[0m \u001b[31m30.9 MB/s\u001b[0m eta \u001b[36m0:00:00\u001b[0m\n",
            "\u001b[?25h\u001b[31mERROR: pip's dependency resolver does not currently take into account all the packages that are installed. This behaviour is the source of the following dependency conflicts.\n",
            "pandas-gbq 0.23.2 requires google-auth-oauthlib>=0.7.0, but you have google-auth-oauthlib 0.4.6 which is incompatible.\n",
            "tf-keras 2.17.0 requires tensorflow<2.18,>=2.17, but you have tensorflow 2.8.0 which is incompatible.\u001b[0m\u001b[31m\n",
            "\u001b[2K   \u001b[90m━━━━━━━━━━━━━━━━━━━━━━━━━━━━━━━━━━━━━━━━\u001b[0m \u001b[32m85.5/85.5 MB\u001b[0m \u001b[31m9.3 MB/s\u001b[0m eta \u001b[36m0:00:00\u001b[0m\n",
            "\u001b[2K   \u001b[90m━━━━━━━━━━━━━━━━━━━━━━━━━━━━━━━━━━━━━━━━\u001b[0m \u001b[32m141.2/141.2 kB\u001b[0m \u001b[31m10.9 MB/s\u001b[0m eta \u001b[36m0:00:00\u001b[0m\n",
            "\u001b[2K   \u001b[90m━━━━━━━━━━━━━━━━━━━━━━━━━━━━━━━━━━━━━━━━\u001b[0m \u001b[32m4.5/4.5 MB\u001b[0m \u001b[31m95.2 MB/s\u001b[0m eta \u001b[36m0:00:00\u001b[0m\n",
            "\u001b[?25h\u001b[31mERROR: pip's dependency resolver does not currently take into account all the packages that are installed. This behaviour is the source of the following dependency conflicts.\n",
            "tf-keras 2.17.0 requires tensorflow<2.18,>=2.17, but you have tensorflow 2.8.0 which is incompatible.\u001b[0m\u001b[31m\n",
            "\u001b[0m"
          ]
        }
      ],
      "source": [
        "!pip install -q tensorflow==2.8.0\n",
        "!pip install -q faiss-gpu\n",
        "!pip install -q deepctr\n",
        "!pip install -q deepmatch"
      ]
    },
    {
      "cell_type": "markdown",
      "metadata": {
        "id": "IgLbNzI8fe3D"
      },
      "source": [
        "---\n",
        "\n",
        "1. **aiss-cpu (Faiss):**  \n",
        "   - **Features:** Faiss is a library designed for efficient similarity search and dense vector clustering. It offers a range of fast similarity search algorithms, especially useful for large-scale nearest neighbor search tasks.  \n",
        "   - **Advantages:** In CPU environments, Faiss provides highly efficient vector similarity search and clustering algorithms, capable of handling large datasets. Its algorithm design allows fast processing of high-dimensional vectors, with applications in image similarity search, natural language processing, and recommendation systems.\n",
        "\n",
        "2. **deepctr:**  \n",
        "   - **Features:** DeepCTR is a Python library for click-through rate (CTR) prediction using deep learning models. It provides multiple deep learning models suitable for building recommendation systems, ad click prediction models, and other CTR-related tasks.  \n",
        "   - **Advantages:** DeepCTR offers a variety of deep learning models, allowing users to flexibly choose models that best suit their data and tasks. It also provides model evaluation and comparison tools to help users better understand and optimize model performance.\n",
        "\n",
        "3. **deepmatch:**  \n",
        "   - **Features:** DeepMatch is a Python library focused on recommendation systems and matching tasks, using deep learning methods. It provides several pre-built deep learning models tailored for item recommendation, user-item matching, and related tasks.  \n",
        "   - **Advantages:** DeepMatch offers easy-to-use interfaces and a rich selection of models, enabling users to quickly build and train personalized recommendation systems. It also provides data preprocessing tools and recommendation algorithm evaluation tools to help users better understand and enhance their model’s performance."
      ]
    },
    {
      "cell_type": "code",
      "execution_count": 3,
      "metadata": {
        "id": "E5G63i5gsshK"
      },
      "outputs": [],
      "source": [
        "# Libraries for Data Processing and Analysis\n",
        "import pandas as pd  # For data processing and analysis, providing powerful data structures and tools.\n",
        "import numpy as np  # For scientific computing, supporting multi-dimensional arrays and matrix operations.\n",
        "\n",
        "# Libraries for Progress Tracking and Data Structures\n",
        "from tqdm import tqdm  # For displaying progress bars, useful for tracking progress when handling large datasets.\n",
        "from collections import defaultdict  # Creates dictionaries with default values, automatically assigning them to non-existent keys.\n",
        "import collections  # Provides additional data structures like counters and ordered dictionaries.\n",
        "\n",
        "# Libraries for OS Interaction and Mathematical Operations\n",
        "import os  # For interacting with the operating system, such as file operations and path handling.\n",
        "import math  # Provides mathematical functions, including trigonometric and logarithmic operations.\n",
        "\n",
        "# Libraries for Warning Control and Serialization\n",
        "import warnings\n",
        "warnings.filterwarnings('ignore')  # Controls the display of warnings, ignoring all warnings here.\n",
        "import pickle  # For serializing and deserializing Python objects, allowing saving to or loading from files.\n",
        "\n",
        "# Libraries for Similarity Search and Clustering\n",
        "import faiss  # For efficient similarity search and clustering algorithms.\n",
        "\n",
        "# Libraries for Random Number Generation and Feature Scaling\n",
        "import random  # Generates pseudo-random numbers.\n",
        "from sklearn.preprocessing import MinMaxScaler  # Scales features to a specific range.\n",
        "\n",
        "# Libraries for Date and Time Handling\n",
        "from datetime import datetime  # For handling dates and times, including creation, formatting, and time calculations.\n",
        "\n",
        "# Libraries for Deep Learning\n",
        "from deepctr.feature_column import SparseFeat, VarLenSparseFeat  # From the DeepCTR library, used to define sparse and variable-length sparse features.\n",
        "from tensorflow.python.keras import backend as K  # From TensorFlow's Keras, provides low-level operations for building and training deep learning models.\n",
        "from tensorflow.python.keras.models import Model  # For building neural network models, defining their structure and training process.\n",
        "from tensorflow.keras.preprocessing.sequence import pad_sequences  # For sequence padding, ensuring sequences have uniform length.\n",
        "from deepmatch.models import *  # Imports all models from the DeepMatch library, used for recommendation systems and related tasks.\n",
        "from deepmatch.utils import sampledsoftmaxloss  # From the DeepMatch library, a custom loss function for specific deep learning tasks.\n",
        "\n",
        "# Other Libraries\n",
        "import logging  # For logging, facilitating debugging and tracking program execution.\n",
        "import time  # Provides time-related functions, such as getting the current time and measuring execution time.\n",
        "import lightgbm as lgb  # A lightweight gradient boosting framework for machine learning tasks.\n",
        "from gensim.models import Word2Vec  # From the Gensim library, used to train word vector models.\n"
      ]
    },
    {
      "cell_type": "code",
      "source": [
        "import tensorflow as tf\n",
        "print(tf.__version__)"
      ],
      "metadata": {
        "colab": {
          "base_uri": "https://localhost:8080/"
        },
        "id": "uE9N-yr3D9Yj",
        "outputId": "b1957e8d-5b6b-4e73-fc42-8acc5af7fac9"
      },
      "execution_count": 4,
      "outputs": [
        {
          "output_type": "stream",
          "name": "stdout",
          "text": [
            "2.8.0\n"
          ]
        }
      ]
    },
    {
      "cell_type": "code",
      "execution_count": 6,
      "metadata": {
        "colab": {
          "base_uri": "https://localhost:8080/"
        },
        "id": "UC_pIovtu-4T",
        "outputId": "d52d4392-13e2-4ce1-881c-e497f171684b"
      },
      "outputs": [
        {
          "output_type": "stream",
          "name": "stdout",
          "text": [
            "Mounted at /content/drive\n"
          ]
        }
      ],
      "source": [
        "from google.colab import drive\n",
        "\n",
        "# connect to Google Drive\n",
        "drive.mount('/content/drive')"
      ]
    },
    {
      "cell_type": "code",
      "execution_count": 11,
      "metadata": {
        "id": "GkvOZcUTsshN"
      },
      "outputs": [],
      "source": [
        "data_path = '/content/drive/My Drive/gz/DS/data/data_raw/'  # Data path, used to specify the storage location of the raw data.\n",
        "save_path = '/content/drive/My Drive/gz/DS/data/temp_results/'  # Save path, used to specify the storage location for temporary results.\n",
        "\n",
        "# A flag for performing recall evaluation. If evaluation is not performed, the full dataset will be used directly for recall.\n",
        "metric_recall = False\n"
      ]
    },
    {
      "cell_type": "markdown",
      "metadata": {
        "id": "vPaWh2sYsshO"
      },
      "source": [
        "## Data Loading  \n",
        "In a typical recommendation system (RS) project, data loading is mainly divided into three modes, with different datasets corresponding to each mode:\n",
        "\n",
        "1. **Debug Mode**:  \n",
        "   The purpose of this mode is to help us quickly build a simple baseline and run it through, ensuring the baseline code works without issues. Since datasets for recommendation projects are usually very large, directly analyzing the entire dataset and building the baseline framework from the start can cause time and resource consumption.  \n",
        "   **Therefore, we often need to randomly sample a portion of the training data (train_click_log_sample)** for debugging, allowing us to run through a basic baseline first.\n",
        "\n",
        "2. **Offline Validation Mode**:  \n",
        "   The goal here is to help us select appropriate models and hyperparameters based on the available training data offline.  \n",
        "   **In this mode, we only need to load the full training dataset (train_click_log)** and then split it into a training set and a validation set. The training set is used to train the model, while the validation set helps us fine-tune model parameters and other hyperparameters.\n",
        "\n",
        "3. **Online Mode**:  \n",
        "   After setting up a baseline recommendation system using **debug mode** and selecting a model and hyperparameters with **offline validation mode**, this mode focuses on making predictions for the given test dataset and submitting results online.  \n",
        "   **In this mode, the training dataset used will be the full dataset (train_click_log + test_click_log).**\n",
        "\n",
        "Below, we define different data import functions corresponding to these three modes, making it easier to load data based on the selected mode later."
      ]
    },
    {
      "cell_type": "code",
      "execution_count": 14,
      "metadata": {
        "id": "TonYe63dsshP"
      },
      "outputs": [],
      "source": [
        "# Debug Mode: Extract a portion of data from the training set to debug the code\n",
        "def get_all_click_sample(data_path, sample_nums=1000):\n",
        "    \"\"\"\n",
        "    Sample a portion of the training data for debugging.\n",
        "    data_path: Path where the original data is stored.\n",
        "    sample_nums: Number of samples (due to memory limitations, sampling by user is recommended).\n",
        "    \"\"\"\n",
        "    all_click = pd.read_csv(data_path + 'train_click_log.csv')\n",
        "    all_user_ids = all_click.user_id.unique()\n",
        "\n",
        "    sample_user_ids = np.random.choice(all_user_ids, size=sample_nums, replace=False)\n",
        "    all_click = all_click[all_click['user_id'].isin(sample_user_ids)]\n",
        "\n",
        "    all_click = all_click.drop_duplicates(['user_id', 'click_article_id', 'click_timestamp'])\n",
        "    return all_click\n",
        "\n",
        "# Load click data, divided into online and offline modes.\n",
        "# If the goal is to submit results online, the test dataset should be merged with the full dataset.\n",
        "# If the goal is to validate model or feature effectiveness offline, only the training set can be used.\n",
        "def get_all_click_df(data_path, offline=True):\n",
        "    if offline:\n",
        "        all_click = pd.read_csv(data_path + 'train_click_log.csv')\n",
        "    else:\n",
        "        trn_click = pd.read_csv(data_path + 'train_click_log.csv')\n",
        "        tst_click = pd.read_csv(data_path + 'testA_click_log.csv')\n",
        "\n",
        "        all_click = pd.concat([trn_click, tst_click])\n",
        "\n",
        "    all_click = all_click.drop_duplicates(['user_id', 'click_article_id', 'click_timestamp'])\n",
        "    return all_click"
      ]
    },
    {
      "cell_type": "code",
      "execution_count": 15,
      "metadata": {
        "id": "CIBzslAasshQ"
      },
      "outputs": [],
      "source": [
        "# Load basic attributes of articles\n",
        "def get_item_info_df(data_path):\n",
        "    item_info_df = pd.read_csv(data_path + 'articles.csv')\n",
        "\n",
        "    # To facilitate merging with click_article_id in the training set,\n",
        "    # rename article_id to click_article_id.\n",
        "    item_info_df = item_info_df.rename(columns={'article_id': 'click_article_id'})\n",
        "\n",
        "    return item_info_df\n"
      ]
    },
    {
      "cell_type": "code",
      "execution_count": 16,
      "metadata": {
        "id": "FsJqZ1B5sshS"
      },
      "outputs": [],
      "source": [
        "# Load article embedding data\n",
        "# Read a CSV file containing article embeddings and convert it into an embedding dictionary.\n",
        "def get_item_emb_dict(data_path):\n",
        "    item_emb_df = pd.read_csv(data_path + 'articles_emb.csv')\n",
        "\n",
        "    # Select columns containing 'emb' to retrieve embedding vectors\n",
        "    item_emb_cols = [x for x in item_emb_df.columns if 'emb' in x]\n",
        "    # Convert the embedding columns into a contiguous NumPy array\n",
        "    item_emb_np = np.ascontiguousarray(item_emb_df[item_emb_cols])\n",
        "    # Normalize the embedding vectors to have a norm of 1 for comparability\n",
        "    item_emb_np = item_emb_np / np.linalg.norm(item_emb_np, axis=1, keepdims=True)\n",
        "\n",
        "    # Create a dictionary mapping article IDs to their corresponding normalized embeddings\n",
        "    item_emb_dict = dict(zip(item_emb_df['article_id'], item_emb_np))\n",
        "    # Save the embedding dictionary to a file using pickle\n",
        "    pickle.dump(item_emb_dict, open(save_path + 'item_content_emb.pkl', 'wb'))\n",
        "\n",
        "    return item_emb_dict\n"
      ]
    },
    {
      "cell_type": "code",
      "execution_count": 19,
      "metadata": {
        "id": "qrTmqqMysshT"
      },
      "outputs": [],
      "source": [
        "# Debug Mode: Extract a portion of data from the training set to debug the code\n",
        "import os # import os module\n",
        "import pandas as pd\n",
        "import numpy as np\n",
        "\n",
        "def get_all_click_sample(data_path, sample_nums=1000):\n",
        "    \"\"\"\n",
        "    Sample a portion of the training data for debugging.\n",
        "    data_path: Path where the original data is stored.\n",
        "    sample_nums: Number of samples (due to memory limitations, sampling by user is recommended).\n",
        "    \"\"\"\n",
        "    # Check if the file exists before attempting to read it\n",
        "    file_path = os.path.join(data_path, 'train_click_log.csv') # use os.path.join to construct file path\n",
        "    if not os.path.exists(file_path):\n",
        "        raise FileNotFoundError(f\"File not found: {file_path}\")\n",
        "\n",
        "    all_click = pd.read_csv(file_path)\n",
        "    all_user_ids = all_click.user_id.unique()\n",
        "\n",
        "    sample_user_ids = np.random.choice(all_user_ids, size=sample_nums, replace=False)\n",
        "    all_click = all_click[all_click['user_id'].isin(sample_user_ids)]\n",
        "\n",
        "    all_click = all_click.drop_duplicates(['user_id', 'click_article_id', 'click_timestamp'])\n",
        "    return all_click\n",
        "\n",
        "# Load click data, divided into online and offline modes.\n",
        "# If the goal is to submit results online, the test dataset should be merged with the full dataset.\n",
        "# If the goal is to validate model or feature effectiveness offline, only the training set can be used.\n",
        "def get_all_click_df(data_path, offline=True):\n",
        "    if offline:\n",
        "        file_path = os.path.join(data_path, 'train_click_log.csv') # use os.path.join to construct file path\n",
        "        if not os.path.exists(file_path):\n",
        "            raise FileNotFoundError(f\"File not found: {file_path}\")\n",
        "        all_click = pd.read_csv(file_path)\n",
        "    else:\n",
        "        trn_click_path = os.path.join(data_path, 'train_click_log.csv') # use os.path.join to construct file path\n",
        "        tst_click_path = os.path.join(data_path, 'testA_click_log.csv') # use os.path.join to construct file path\n",
        "\n",
        "        if not os.path.exists(trn_click_path):\n",
        "            raise FileNotFoundError(f\"File not found: {trn_click_path}\")\n",
        "        if not os.path.exists(tst_click_path):\n",
        "            raise FileNotFoundError(f\"File not found: {tst_click_path}\")\n",
        "\n",
        "        trn_click = pd.read_csv(trn_click_path)\n",
        "        tst_click = pd.read_csv(tst_click_path)\n",
        "\n",
        "        all_click = pd.concat([trn_click, tst_click])\n",
        "\n",
        "    all_click = all_click.drop_duplicates(['user_id', 'click_article_id', 'click_timestamp'])\n",
        "    return all_click"
      ]
    },
    {
      "cell_type": "code",
      "execution_count": 22,
      "metadata": {
        "id": "-0rV6E0asshU"
      },
      "outputs": [],
      "source": [
        "# Load basic attributes of articles\n",
        "import os # import the os module\n",
        "\n",
        "def get_item_info_df(data_path):\n",
        "    # Construct the full file path using os.path.join\n",
        "    file_path = os.path.join(data_path, 'articles.csv')\n",
        "\n",
        "    # Check if the file exists before attempting to read it\n",
        "    if not os.path.exists(file_path):\n",
        "        raise FileNotFoundError(f\"File not found: {file_path}\")\n",
        "\n",
        "    item_info_df = pd.read_csv(file_path)\n",
        "\n",
        "    # To facilitate merging with click_article_id in the training set,\n",
        "    # rename article_id to click_article_id.\n",
        "    item_info_df = item_info_df.rename(columns={'article_id': 'click_article_id'})\n",
        "\n",
        "    return item_info_df"
      ]
    },
    {
      "cell_type": "code",
      "execution_count": 23,
      "metadata": {
        "id": "K_K5IA91sshV"
      },
      "outputs": [],
      "source": [
        "# Load article embedding data\n",
        "# Read a CSV file containing article embeddings and convert it into an embedding dictionary.\n",
        "import os # import os module for path operations\n",
        "\n",
        "def get_item_emb_dict(data_path):\n",
        "    # Construct the full file path using os.path.join\n",
        "    file_path = os.path.join(data_path, 'articles_emb.csv')\n",
        "\n",
        "    # Check if the file"
      ]
    },
    {
      "cell_type": "markdown",
      "metadata": {
        "id": "HIMwJr99sshV"
      },
      "source": [
        "## Utility function"
      ]
    },
    {
      "cell_type": "markdown",
      "metadata": {
        "id": "G2GomLGIsshW"
      },
      "source": [
        "### Get user-article-time function\n",
        "This will be used in user-based collaborative filtering with association rules"
      ]
    },
    {
      "cell_type": "code",
      "execution_count": 25,
      "metadata": {
        "id": "U2_2_aKzsshW"
      },
      "outputs": [],
      "source": [
        "#  Retrieve the sequence of articles clicked by users based on click timestamps.   {user1: [(item1, time1), (item2, time2)..]...}\n",
        "def get_user_item_time(click_df):\n",
        "\n",
        "    click_df = click_df.sort_values('click_timestamp')\n",
        "\n",
        "    def make_item_time_pair(df):\n",
        "        return list(zip(df['click_article_id'], df['click_timestamp']))\n",
        "\n",
        "    user_item_time_df = click_df.groupby('user_id')[['click_article_id', 'click_timestamp']].apply(lambda x: make_item_time_pair(x))\\\n",
        "                                                            .reset_index().rename(columns={0: 'item_time_list'})\n",
        "    user_item_time_dict = dict(zip(user_item_time_df['user_id'], user_item_time_df['item_time_list']))\n",
        "\n",
        "    return user_item_time_dict"
      ]
    },
    {
      "cell_type": "markdown",
      "metadata": {
        "id": "EHk5mi4RsshW"
      },
      "source": [
        "### Get article-user-time function\n",
        "This will be used in item-based collaborative filtering with association rules."
      ]
    },
    {
      "cell_type": "code",
      "execution_count": 26,
      "metadata": {
        "id": "oADY4pp2sshX"
      },
      "outputs": [],
      "source": [
        "# Get the sequence of users who clicked on items based on time\n",
        "# {item1: [(user1, time1), (user2, time2)...]...}\n",
        "def get_item_user_time_dict(click_df):\n",
        "    \"\"\"\n",
        "    Create a dictionary where the key is the item ID, and the value is a list of users who clicked the item along with the timestamps.\n",
        "    :param click_df: DataFrame containing user click information\n",
        "    :return: Dictionary mapping item IDs to lists of user-click pairs\n",
        "    \"\"\"\n",
        "    def make_user_time_pair(df):\n",
        "        return list(zip(df['user_id'], df['click_timestamp']))\n",
        "\n",
        "    click_df = click_df.sort_values('click_timestamp')\n",
        "    item_user_time_df = click_df.groupby('click_article_id')[['user_id', 'click_timestamp']]\\\n",
        "                                .apply(lambda x: make_user_time_pair(x))\\\n",
        "                                .reset_index().rename(columns={0: 'user_time_list'})\n",
        "\n",
        "    item_user_time_dict = dict(zip(item_user_time_df['click_article_id'], item_user_time_df['user_time_list']))\n",
        "    return item_user_time_dict\n"
      ]
    },
    {
      "cell_type": "markdown",
      "metadata": {
        "id": "HTkbonN8sshZ"
      },
      "source": [
        "### Get historical and last clicks  \n",
        "This will be used in evaluating recall results, feature engineering, and creating labels for converting into a supervised learning test set."
      ]
    },
    {
      "cell_type": "code",
      "execution_count": 27,
      "metadata": {
        "id": "qSQNmlv0sshZ"
      },
      "outputs": [],
      "source": [
        "# Get historical and last clicks from the current data\n",
        "def get_hist_and_last_click(all_click):\n",
        "    all_click = all_click.sort_values(by=['user_id', 'click_timestamp'])\n",
        "    click_last_df = all_click.groupby('user_id').tail(1)\n",
        "\n",
        "    # If the user has only one click record (len(user_df) == 1),\n",
        "    # the hist_func will return the entire click record for that user.\n",
        "    # Otherwise, it will return all clicks except the last one.\n",
        "    def hist_func(user_df):\n",
        "        if len(user_df) == 1:\n",
        "            return user_df\n",
        "        else:\n",
        "            return user_df[:-1]\n",
        "\n",
        "    click_hist_df = all_click.groupby('user_id').apply(hist_func).reset_index(drop=True)\n",
        "\n",
        "    return click_hist_df, click_last_df\n"
      ]
    },
    {
      "cell_type": "markdown",
      "metadata": {
        "id": "GYBII4Ndssha"
      },
      "source": [
        "### Get Article Attribute Features"
      ]
    },
    {
      "cell_type": "code",
      "execution_count": 28,
      "metadata": {
        "id": "vwTDcJ-wssha"
      },
      "outputs": [],
      "source": [
        "#  Retrieve the basic attributes corresponding to article IDs and save them as a dictionary for easy use during the recall and cold start phases.\n",
        "def get_item_info_dict(item_info_df):\n",
        "    max_min_scaler = lambda x : (x-np.min(x))/(np.max(x)-np.min(x))\n",
        "    item_info_df['created_at_ts'] = item_info_df[['created_at_ts']].apply(max_min_scaler)\n",
        "\n",
        "    item_type_dict = dict(zip(item_info_df['click_article_id'], item_info_df['category_id']))\n",
        "    item_words_dict = dict(zip(item_info_df['click_article_id'], item_info_df['words_count']))\n",
        "    item_created_time_dict = dict(zip(item_info_df['click_article_id'], item_info_df['created_at_ts']))\n",
        "\n",
        "    return item_type_dict, item_words_dict, item_created_time_dict"
      ]
    },
    {
      "cell_type": "markdown",
      "metadata": {
        "id": "-eR4q3D1sshb"
      },
      "source": [
        "### Get Information of Articles Clicked in User's History"
      ]
    },
    {
      "cell_type": "code",
      "execution_count": 29,
      "metadata": {
        "id": "RQgsnWBssshc"
      },
      "outputs": [],
      "source": [
        "def get_user_hist_item_info_dict(all_click):\n",
        "    \"\"\"\n",
        "    This function retrieves various information from the user's historical clicks and returns the following dictionaries:\n",
        "    1. A dictionary of the set of article categories clicked by the user.\n",
        "    2. A dictionary of the set of article IDs clicked by the user.\n",
        "    3. A dictionary of the average word count of articles clicked by the user.\n",
        "    4. A dictionary of the normalized creation time of the last article clicked by the user.\n",
        "    \"\"\"\n",
        "\n",
        "    # Retrieve a dictionary of the set of article categories clicked by each user (user_id).\n",
        "    user_hist_item_typs = all_click.groupby('user_id')['category_id'].agg(set).reset_index()\n",
        "    user_hist_item_typs_dict = dict(zip(user_hist_item_typs['user_id'], user_hist_item_typs['category_id']))\n",
        "    # 1. Group by user_id and aggregate article categories (category_id) into sets.\n",
        "    # 2. Convert the result into a dictionary where the key is user_id and the value is the set of categories.\n",
        "\n",
        "    # Retrieve a dictionary of the set of article IDs clicked by each user (user_id).\n",
        "    user_hist_item_ids_dict = all_click.groupby('user_id')['click_article_id'].agg(set).reset_index()\n",
        "    user_hist_item_ids_dict = dict(zip(user_hist_item_ids_dict['user_id'], user_hist_item_ids_dict['click_article_id']))\n",
        "    # 1. Group by user_id and aggregate article IDs (click_article_id) into sets.\n",
        "    # 2. Convert the result into a dictionary where the key is user_id and the value is the set of article IDs.\n",
        "\n",
        "    # Retrieve a dictionary of the average word count of articles clicked by each user (user_id).\n",
        "    user_hist_item_words = all_click.groupby('user_id')['words_count'].agg('mean').reset_index()\n",
        "    user_hist_item_words_dict = dict(zip(user_hist_item_words['user_id'], user_hist_item_words['words_count']))\n",
        "    # 1. Group by user_id and calculate the mean word count (words_count) of clicked articles.\n",
        "    # 2. Convert the result into a dictionary where the key is user_id and the value is the average word count.\n",
        "\n",
        "    # Retrieve the creation time of the last article clicked by each user (user_id).\n",
        "    all_click_ = all_click.sort_values('click_timestamp')\n",
        "    user_last_item_created_time = all_click_.groupby('user_id')['created_at_ts'].apply(lambda x: x.iloc[-1]).reset_index()\n",
        "    # 1. Sort the data by click timestamp (click_timestamp).\n",
        "    # 2. Group by user_id and extract the creation time (created_at_ts) of the last clicked article for each user.\n",
        "\n",
        "    max_min_scaler = lambda x: (x - np.min(x)) / (np.max(x) - np.min(x))\n",
        "    user_last_item_created_time['created_at_ts'] = user_last_item_created_time[['created_at_ts']].apply(max_min_scaler)\n",
        "    # 1. Define a normalization function to scale the data between 0 and 1.\n",
        "    # 2. Apply normalization to the extracted creation time data.\n",
        "\n",
        "    user_last_item_created_time_dict = dict(zip(user_last_item_created_time['user_id'],\n",
        "                                                user_last_item_created_time['created_at_ts']))\n",
        "    # Convert the result into a dictionary where the key is user_id and the value is the normalized creation time.\n",
        "\n",
        "    return user_hist_item_typs_dict, user_hist_item_ids_dict, user_hist_item_words_dict, user_last_item_created_time_dict\n",
        "    # Return four dictionaries: the set of article categories, article IDs, average word count,\n",
        "    # and normalized creation time of the last clicked article for each user.\n"
      ]
    },
    {
      "cell_type": "markdown",
      "source": [
        "1. **Retrieve the Set of Article Categories Clicked by the User**: By collecting the categories of articles each user has clicked and storing them as a set, we can gain insights into the user's interests. This category information can be considered during recommendations to improve accuracy and personalization.\n",
        "\n",
        "2. **Retrieve the Set of Article IDs Clicked by the User**: Recording the set of article IDs each user has clicked allows us to build the user's historical behavior sequence. This sequence can be used for sequence modeling, such as with sequence models or sequential recommendation algorithms, to predict articles the user may be interested in.\n",
        "\n",
        "3. **Retrieve the Average Word Count of Articles Clicked by the User**: Calculating the average word count of the articles each user has clicked serves as a behavioral feature. This helps the recommendation system better understand the user's reading habits and preferences.\n",
        "\n",
        "4. **Retrieve the Creation Time of the Last Article Clicked by the User**: Storing the creation time of the last article clicked by each user enables time-based recommendation strategies. For example, recent clicks are more likely to reflect the user’s current interests."
      ],
      "metadata": {
        "id": "o3-Nn5PSHamD"
      }
    },
    {
      "cell_type": "markdown",
      "metadata": {
        "id": "mWbVGID2sshc"
      },
      "source": [
        "### Retrieve the Top-K Most Clicked Articles"
      ]
    },
    {
      "cell_type": "code",
      "execution_count": 33,
      "metadata": {
        "id": "J0NuBc2xsshd"
      },
      "outputs": [],
      "source": [
        "# Retrieve the Most Clicked Recent Articles\n",
        "def get_item_topk_click(click_df, k):\n",
        "    topk_click = click_df['click_article_id'].value_counts().index[:k]\n",
        "    return topk_click"
      ]
    },
    {
      "cell_type": "markdown",
      "metadata": {
        "id": "Nj-sqfwNsshd"
      },
      "source": [
        "## Define a multi-channel recall dictionary"
      ]
    },
    {
      "cell_type": "code",
      "execution_count": 38,
      "metadata": {
        "id": "isAZ0kxPsshd",
        "colab": {
          "base_uri": "https://localhost:8080/"
        },
        "outputId": "bc775aee-cfea-4440-9af6-75abb93d1e9b"
      },
      "outputs": [
        {
          "output_type": "stream",
          "name": "stdout",
          "text": [
            "File not found at path: /content/data/item_info.csv. Please check the path and file location.\n"
          ]
        }
      ],
      "source": [
        "import pandas as pd\n",
        "import os\n",
        "\n",
        "# Get the current working directory\n",
        "current_dir = os.getcwd()\n",
        "\n",
        "# Construct the absolute path to the data file\n",
        "file_path = os.path.join(current_dir, 'data', 'item_info.csv')\n",
        "\n",
        "# Check if the file exists before reading\n",
        "if os.path.exists(file_path):\n",
        "    # Load the data into a pandas DataFrame\n",
        "    item_info_df = pd.read_csv(file_path)\n",
        "    print(\"Data loaded successfully.\")\n",
        "else:\n",
        "    print(f\"File not found at path: {file_path}. Please check the path and file location.\")\n",
        "\n",
        "# (Optional) Retrieve Article Attribute Information and Store as a Dictionary for Easy Lookup\n",
        "# item_type_dict, item_words_dict, item_created_time_dict = get_item_info_dict(item_info_df)\n"
      ]
    },
    {
      "cell_type": "code",
      "execution_count": 40,
      "metadata": {
        "id": "hsMKcK4bsshd"
      },
      "outputs": [],
      "source": [
        "# Define a Multi-Channel Recall Dictionary to Store Results from Different Recall Strategies\n",
        "user_multi_recall_dict =  {'itemcf_sim_itemcf_recall': {},\n",
        "                           'embedding_sim_item_recall': {},\n",
        "                           'cold_start_recall': {}}"
      ]
    },
    {
      "cell_type": "markdown",
      "source": [
        "1. `'itemcf_sim_itemcf_recall': {}`: Represents the recall results based on item-based collaborative filtering. The value corresponding to this key is an empty dictionary, intended to store the recall results obtained from the item-based collaborative filtering algorithm.  \n",
        "2. `'embedding_sim_item_recall': {}`: Represents the recall results based on embedding similarity. The value corresponding to this key is an empty dictionary, intended to store the recall results obtained from the embedding similarity algorithm.  \n",
        "3. `'cold_start_recall': {}`: Represents the cold-start recall results. The value corresponding to this key is an empty dictionary, intended to store the recall results obtained from the cold-start algorithm."
      ],
      "metadata": {
        "id": "9BkyUUBKHnJg"
      }
    },
    {
      "cell_type": "code",
      "execution_count": 45,
      "metadata": {
        "id": "C-BlTVVQsshe",
        "colab": {
          "base_uri": "https://localhost:8080/"
        },
        "outputId": "af34366c-4fe1-4234-eedd-cc8b55540f08"
      },
      "outputs": [
        {
          "output_type": "stream",
          "name": "stdout",
          "text": [
            "File not found at: /content/data/click_data.csv. Please ensure the file is in the correct location.\n"
          ]
        }
      ],
      "source": [
        "import pandas as pd\n",
        "import os\n",
        "\n",
        "# Assuming 'click_data.csv' is the file containing your click data\n",
        "click_data_path = os.path.join(os.getcwd(), 'data', 'click_data.csv')\n",
        "\n",
        "# Verify if the file exists before loading\n",
        "if not os.path.exists(click_data_path):\n",
        "    print(f\"File not found at: {click_data_path}. Please ensure the file is in the correct location.\")\n",
        "else:\n",
        "    try:\n",
        "        # Load the click data into a DataFrame\n",
        "        all_click_df = pd.read_csv(click_data_path)\n",
        "        print(\"Click data loaded successfully.\")\n",
        "    except Exception as e:\n",
        "        print(f\"An error occurred while loading click data: {e}\")\n",
        "\n",
        "# If the data loaded successfully, proceed with extracting history and last clicks\n",
        "if 'all_click_df' in locals():\n",
        "    trn_hist_click_df, trn_last_click_df = get_hist_and_last_click(all_click_df)\n",
        "    print(trn_hist_click_df.head())\n",
        "    print(trn_last_click_df.head())\n"
      ]
    },
    {
      "cell_type": "markdown",
      "metadata": {
        "id": "CJ0E1nJDsshe"
      },
      "source": [
        "## Recall Evaluation Function  \n",
        "After completing the recall process, it is sometimes necessary to adjust the current recall method or parameters to achieve better recall performance. Since the recall results determine the upper limit of the final ranking, the following provides a method for recall evaluation."
      ]
    },
    {
      "cell_type": "code",
      "execution_count": 47,
      "metadata": {
        "id": "eyIdaYctsshh"
      },
      "outputs": [],
      "source": [
        "def metrics_recall(user_recall_items_dict, trn_last_click_df, topk=50):\n",
        "    \"\"\"\n",
        "    This function evaluates the hit rate for the top 10, 20, 30, 40, and 50 articles in the recall results.\n",
        "    \"\"\"\n",
        "\n",
        "    # Convert the user's last click records into a dictionary with user_id as the key and click_article_id as the value\n",
        "    last_click_item_dict = dict(zip(trn_last_click_df['user_id'], trn_last_click_df['click_article_id']))\n",
        "\n",
        "    # Get the number of users in the recall dictionary\n",
        "    user_num = len(user_recall_items_dict)\n",
        "\n",
        "    # Evaluate the hit rate for the top 10, 20, 30, 40, and 50 recalled articles\n",
        "    for k in range(10, topk + 1, 10):\n",
        "        hit_num = 0  # Record the number of hits\n",
        "\n",
        "        # Iterate through each user and their list of recalled articles\n",
        "        for user, item_list in user_recall_items_dict.items():\n",
        "            # Get the top-k recall results (article IDs)\n",
        "            tmp_recall_items = [x[0] for x in user_recall_items_dict[user][:k]]\n",
        "\n",
        "            # If the user's last clicked article is in the top-k recall results, count it as a hit\n",
        "            if last_click_item_dict[user] in set(tmp_recall_items):\n",
        "                hit_num += 1\n",
        "\n",
        "        # Calculate the hit rate: hit rate = number of hits / total number of users\n",
        "        hit_rate = round(hit_num * 1.0 / user_num, 5)\n",
        "\n",
        "        # Output the result\n",
        "        print('topk:', k, ' | hit_num:', hit_num, ' | hit_rate:', hit_rate, ' | user_num:', user_num)\n"
      ]
    },
    {
      "cell_type": "markdown",
      "metadata": {
        "id": "R3K3hK4isshi"
      },
      "source": [
        "## Calculate Similarity Matrix  \n",
        "\n",
        "This section focuses on obtaining the similarity matrix through collaborative filtering and vector search. The similarity matrix is mainly divided into `user2user` and `item2item`. Below, we retrieve the `item2item` similarity matrix based on item-based collaborative filtering (itemCF).\n",
        "![image.png](data:image/png;base64,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)"
      ]
    },
    {
      "cell_type": "markdown",
      "metadata": {
        "id": "UQTUY964sshj"
      },
      "source": [
        "### itemcf i2i_sim\n",
        "When calculating the `item2item` similarity matrix, association rules are applied to ensure that the similarity between articles also takes into account:\n",
        "\n",
        "1. **Time Weight of User Clicks**  \n",
        "   - The importance of when the user clicked on the article.\n",
        "\n",
        "2. **Order Weight of User Clicks**  \n",
        "   - The sequence in which the user clicked on the articles.\n",
        "\n",
        "3. **Creation Time Weight of Articles**  \n",
        "   - The significance of the article's creation time."
      ]
    },
    {
      "cell_type": "code",
      "source": [
        "import pandas as pd\n",
        "import os\n",
        "\n",
        "# Get the current working directory\n",
        "current_dir = os.getcwd()\n",
        "file_path = os.path.join(current_dir, 'click_data.csv')\n",
        "\n",
        "# Check if the file exists\n",
        "if os.path.exists(file_path):\n",
        "    try:\n",
        "        all_click_df = pd.read_csv(file_path)\n",
        "        print(\"Click data loaded successfully.\")\n",
        "    except Exception as e:\n",
        "        print(f\"An error occurred while loading the click data: {e}\")\n",
        "else:\n",
        "    print(f\"File not found: {file_path}. Please verify the file location.\")\n"
      ],
      "metadata": {
        "id": "y9kLFm4XfWEG",
        "colab": {
          "base_uri": "https://localhost:8080/"
        },
        "outputId": "8d8375be-3134-4e34-a494-9f44286c3779"
      },
      "execution_count": 52,
      "outputs": [
        {
          "output_type": "stream",
          "name": "stdout",
          "text": [
            "File not found: /content/click_data.csv. Please verify the file location.\n"
          ]
        }
      ]
    },
    {
      "cell_type": "code",
      "execution_count": 54,
      "metadata": {
        "id": "eoCljawPsshj"
      },
      "outputs": [],
      "source": [
        "def itemcf_sim(all_click_df, option='raw'):\n",
        "\n",
        "    # Calculate item similarity\n",
        "    # Use two nested loops to iterate over the list of articles clicked by each user\n",
        "    # and compute the similarity between every pair of items.\n",
        "    # For each pair of items i and j, calculate their similarity sim(i, j).\n",
        "    # Common similarity measures include cosine similarity.\n",
        "\n",
        "    user_item_time_dict = get_user_item_time(all_click_df)\n",
        "\n",
        "    # Initialize dictionaries\n",
        "    i2i_sim = defaultdict(dict)\n",
        "    item_cnt = defaultdict(int)\n",
        "\n",
        "    if option == 'raw':\n",
        "        print('Raw similarity calculation\\n')\n",
        "        # Raw similarity accumulation process\n",
        "        # Iterate over each user and their list of clicked items and times\n",
        "        for user, item_time_list in tqdm(user_item_time_dict.items(),\n",
        "                                         desc=\"Building item-item similarity matrix (raw)\"):\n",
        "            # Iterate over each item i clicked by the user\n",
        "            for i, i_click_time in item_time_list:\n",
        "                item_cnt[i] += 1  # Record the number of times item i was clicked\n",
        "\n",
        "                # Nested iteration over each pair of items i and j clicked by the user\n",
        "                for j, j_click_time in item_time_list:\n",
        "                    if i == j:  # Skip if item i and item j are the same\n",
        "                        continue\n",
        "\n",
        "                    i2i_sim[i].setdefault(j, 0)  # Initialize similarity between i and j to 0 if not already set\n",
        "\n",
        "                    # Accumulate similarity between item i and item j\n",
        "                    i2i_sim[i][j] += 1 / math.log(len(item_time_list) + 1)\n",
        "\n",
        "    elif option == 'weighted':\n",
        "        print('Weighted similarity calculation\\n')\n",
        "        # Weighted similarity accumulation process\n",
        "        for user, item_time_list in tqdm(user_item_time_dict.items(),\n",
        "                                         desc=\"Building item-item similarity matrix (weighted)\"):\n",
        "            for loc1, (i, i_click_time) in enumerate(item_time_list):\n",
        "                item_cnt[i] += 1\n",
        "                i2i_sim.setdefault(i, {})\n",
        "                for loc2, (j, j_click_time) in enumerate(item_time_list):\n",
        "                    if i == j:\n",
        "                        continue\n",
        "\n",
        "                    # Consider both forward and backward sequential clicks\n",
        "                    loc_alpha = 1.0 if loc2 > loc1 else 0.7\n",
        "                    # Positional weight; parameters can be adjusted\n",
        "                    loc_weight = loc_alpha * (0.9 ** (np.abs(loc2 - loc1) - 1))\n",
        "                    # Click time weight; parameters can be adjusted\n",
        "                    click_time_weight = np.exp(0.7 ** np.abs(i_click_time - j_click_time))\n",
        "                    # Article creation time weight; parameters can be adjusted\n",
        "                    created_time_weight = np.exp(0.8 ** np.abs(item_created_time_dict[i] - item_created_time_dict[j]))\n",
        "                    i2i_sim[i].setdefault(j, 0)\n",
        "                    # Calculate the final similarity between items considering multiple factors\n",
        "                    i2i_sim[i][j] += (loc_weight * click_time_weight * created_time_weight /\n",
        "                                      math.log(len(item_time_list) + 1))\n",
        "\n",
        "    # Normalize the similarity values\n",
        "    i2i_sim_final = defaultdict(dict)\n",
        "    for i, related_items in i2i_sim.items():\n",
        "        for j, wij in related_items.items():\n",
        "            i2i_sim_final[i][j] = wij / math.sqrt(item_cnt[i] * item_cnt[j])\n",
        "\n",
        "    # Save the similarity matrix to local storage\n",
        "    with open(save_path + 'itemcf_i2i_sim.pkl', 'wb') as f:\n",
        "        pickle.dump(i2i_sim_final, f)\n",
        "\n",
        "    return i2i_sim_final\n"
      ]
    },
    {
      "cell_type": "markdown",
      "source": [
        "#### About Similarity Calculation\n",
        "\n",
        "1. **Similarity Accumulation Process**:\n",
        "\n",
        "   $$\n",
        "   \\text{sim}(i, j) = \\sum_{u \\in U_{ij}} \\frac{1}{\\log(1 + |N(u)|)}\n",
        "   $$\n",
        "\n",
        "   Where:\n",
        "   - $ \\text{sim}(i, j) $ represents the similarity between item $ i $ and item $ j $.\n",
        "   - $ U_{ij} $ denotes the set of users who clicked both item $ i $ and item $ j $.\n",
        "   - $ N(u) $ refers to the number of items clicked by user $ u $.\n",
        "\n",
        "2. **Similarity Normalization Process**:\n",
        "\n",
        "   $$\n",
        "   \\text{sim_normalized}(i, j) = \\frac{\\text{sim}(i, j)}{\\sqrt{c(i) \\times c(j)}}\n",
        "   $$\n",
        "\n",
        "   Where:\n",
        "   - $ \\text{sim_normalized}(i, j) $ denotes the normalized similarity between item $ i $ and item $ j $.\n",
        "   - $ c(i) $ and $ c(j) $ represent the total number of clicks for item $ i $ and item $ j $, respectively.\n",
        "\n",
        "> Why is `i2i_sim[i][j] += 1 / math.log(len(item_time_list) + 1)` calculated this way?\n",
        "\n",
        "Similarity is calculated based on co-occurrence frequency. Here, `1 / log(len(item_time_list) + 1)` is used as the increment value for similarity to standardize across different lengths of user click lists.\n",
        "\n",
        "- **Co-occurrence Frequency**: The similarity value reflects how often two items appear together in the same user’s click history. The more frequent the co-occurrence, the higher the similarity.\n",
        "- **Normalization**: `1 / math.log(len(item_time_list) + 1)` normalizes the similarity increment to reduce the influence of long click lists on the calculation.\n",
        "\n",
        "Assume the following user click data:\n",
        "\n",
        "- **User A**: Clicked items 1, 2, and 3.\n",
        "- **User B**: Clicked items 1 and 2.\n",
        "- **User C**: Clicked items 2 and 3.\n",
        "\n",
        "Steps to calculate similarity:\n",
        "\n",
        "1. **Items 1 and 2**:\n",
        "   - Both User A and User B clicked items 1 and 2, so the similarity between items 1 and 2 increases in the similarity matrix.\n",
        "   - User A clicked items 1 and 2 (2 times), and User B also clicked them (1 time), so `i2i_sim[1][2]` increases by `1 / log(3)` (assuming User A's click list length is 3).\n",
        "\n",
        "2. **Items 1 and 3**:\n",
        "   - User A clicked items 1 and 3 (1 time), and User C clicked item 3 (1 time), so the similarity between items 1 and 3 increases by `1 / log(3)` (assuming User A's click list length is 3).\n",
        "\n",
        "3. **Items 2 and 3**:\n",
        "   - Both User A and User C clicked items 2 and 3, so the similarity between items 2 and 3 increases by `1 / log(3)` (assuming User A's click list length is 3)."
      ],
      "metadata": {
        "id": "Fpl17JBDdbhu"
      }
    },
    {
      "cell_type": "markdown",
      "source": [
        "- `loc_alpha = 1.0 if loc2 > loc1 else 0.7`: This line of code calculates the positional weight, considering the order in which the user clicked the articles. If article j was clicked after article i, `loc_alpha` is set to 1.0; otherwise, it is set to 0.7. This approach emphasizes that users are more likely to be interested in the most recently clicked articles rather than earlier ones.  \n",
        "- `loc_weight = loc_alpha * (0.9 ** (np.abs(loc2 - loc1) - 1))`: This line calculates the weight based on positional information. The positional weight depends on the order of clicks between the articles, with larger distances resulting in smaller weights. The parameter 0.9 serves as the decay coefficient for the positional weight, reducing the impact of articles clicked further apart on similarity.  \n",
        "- `click_time_weight = np.exp(0.7 ** np.abs(i_click_time - j_click_time))`: This line computes the weight based on click time. The click time weight accounts for the time interval between the user's clicks on the two articles. Shorter time intervals yield higher weights, indicating that the user is more likely to have a similar interest in both articles.  \n",
        "- `created_time_weight = np.exp(0.8 ** np.abs(item_created_time_dict[i] - item_created_time_dict[j]))`: This line calculates the weight based on the creation time of the articles. The creation time weight considers the difference in the creation dates of the two articles. If the articles were created around the same time, the weight is higher; otherwise, it is lower.  \n",
        "- `i2i_sim[i][j] += loc_weight * click_time_weight * created_time_weight / math.log(len(item_time_list) + 1)`: Finally, this line calculates the similarity between article i and article j, taking into account the positional information, click time, and creation time weights. The similarity is computed as a weighted sum using the aforementioned weights, and it is divided by a logarithmic term to balance the effect of frequent clicks."
      ],
      "metadata": {
        "id": "QPdcNnYwI3ux"
      }
    },
    {
      "cell_type": "code",
      "execution_count": null,
      "metadata": {
        "colab": {
          "base_uri": "https://localhost:8080/"
        },
        "outputId": "13547b1b-fd08-4bc6-daed-3313fbfa947e",
        "id": "WJpEnGP6LkMM"
      },
      "outputs": [
        {
          "output_type": "stream",
          "name": "stdout",
          "text": [
            "加权相似度计算\n",
            "\n"
          ]
        },
        {
          "output_type": "stream",
          "name": "stderr",
          "text": [
            "Building item-item similarity matrix (weighted): 100%|██████████| 1000/1000 [00:00<00:00, 1725.95it/s]\n"
          ]
        }
      ],
      "source": [
        "i2i_sim = itemcf_sim(all_click_df, option='weighted')"
      ]
    },
    {
      "cell_type": "markdown",
      "metadata": {
        "id": "YC819C4Osshk"
      },
      "source": [
        "### usercf u2u_sim\n",
        "When calculating the similarity between users, some simple association rules can also be applied, such as user activity weight. Here, the number of user clicks is used as an indicator of user activity."
      ]
    },
    {
      "cell_type": "code",
      "execution_count": null,
      "metadata": {
        "id": "6VEJruX0sshk"
      },
      "outputs": [],
      "source": [
        "def get_user_activate_degree_dict(all_click_df):\n",
        "    all_click_df_ = all_click_df.groupby('user_id')['click_article_id'].count().reset_index()\n",
        "\n",
        "    # Normalize user activity\n",
        "    mm = MinMaxScaler()\n",
        "    all_click_df_['click_article_id'] = mm.fit_transform(all_click_df_[['click_article_id']])\n",
        "    user_activate_degree_dict = dict(zip(all_click_df_['user_id'], all_click_df_['click_article_id']))\n",
        "\n",
        "    # Here, user activity is measured by the number of articles clicked by the user.\n",
        "    # After normalization, the activity level is represented by a value in the range [0, 1],\n",
        "    # indicating the user's relative activity level.\n",
        "    return user_activate_degree_dict\n"
      ]
    },
    {
      "cell_type": "code",
      "execution_count": null,
      "metadata": {
        "id": "1Um6AnDPsshk"
      },
      "outputs": [],
      "source": [
        "def usercf_sim(all_click_df, user_activate_degree_dict):\n",
        "    \"\"\"\n",
        "    User similarity matrix calculation.\n",
        "    :param all_click_df: DataFrame\n",
        "    :param user_activate_degree_dict: Dictionary of user activity levels\n",
        "    :return: User similarity matrix\n",
        "    \"\"\"\n",
        "\n",
        "    # Get a dictionary of users who clicked on each item.\n",
        "    # Key is the item ID, value is the list of users who clicked the item.\n",
        "    item_user_time_dict = get_item_user_time_dict(all_click_df)\n",
        "\n",
        "    # Initialize the user similarity matrix\n",
        "    u2u_sim = {}\n",
        "    # Dictionary to count the number of items clicked by each user\n",
        "    user_cnt = defaultdict(int)\n",
        "\n",
        "    # Iterate over each item and its list of users who clicked it\n",
        "    for item, user_time_list in tqdm(item_user_time_dict.items()):\n",
        "        # Iterate over each user and their click time\n",
        "        for u, click_time in user_time_list:\n",
        "            # Count the number of items clicked by each user\n",
        "            user_cnt[u] += 1\n",
        "            # Initialize the user similarity matrix if it doesn't exist\n",
        "            u2u_sim.setdefault(u, {})\n",
        "            # Second iteration over users to calculate user similarity\n",
        "            for v, click_time in user_time_list:\n",
        "                # Initialize the similarity value for users if not already set\n",
        "                u2u_sim[u].setdefault(v, 0)\n",
        "                # Skip if the two users are the same (no self-similarity calculation)\n",
        "                if u == v:\n",
        "                    continue\n",
        "                # Calculate the similarity weight considering user activity\n",
        "                activate_weight = 100 * 0.5 * (user_activate_degree_dict[u] + user_activate_degree_dict[v])\n",
        "                # user_activate_degree_dict[u] and user_activate_degree_dict[v] represent\n",
        "                # the activity levels of users u and v (i.e., their normalized click counts).\n",
        "                # Update the similarity value in the matrix for the two users\n",
        "                u2u_sim[u][v] += activate_weight / math.log(len(user_time_list) + 1)\n",
        "\n",
        "    # Copy the user similarity matrix to avoid modifying the original data\n",
        "    u2u_sim_ = u2u_sim.copy()\n",
        "    # Normalize the similarity values in the user similarity matrix\n",
        "    for u, related_users in u2u_sim.items():\n",
        "        for v, wij in related_users.items():\n",
        "            u2u_sim_[u][v] = wij / math.sqrt(user_cnt[u] * user_cnt[v])\n",
        "\n",
        "    # Save the user similarity matrix to the local storage\n",
        "    pickle.dump(u2u_sim_, open(save_path + 'usercf_u2u_sim.pkl', 'wb'))\n",
        "\n",
        "    return u2u_sim_\n"
      ]
    },
    {
      "cell_type": "code",
      "execution_count": null,
      "metadata": {
        "colab": {
          "base_uri": "https://localhost:8080/"
        },
        "id": "mQfUH3Jxsshy",
        "outputId": "b18561f1-b90d-47fa-a184-229cc6343bfd"
      },
      "outputs": [
        {
          "output_type": "stream",
          "name": "stderr",
          "text": [
            "100%|██████████| 1780/1780 [00:00<00:00, 20437.73it/s]\n"
          ]
        }
      ],
      "source": [
        "user_activate_degree_dict = get_user_activate_degree_dict(all_click_df)\n",
        "u2u_sim = usercf_sim(all_click_df, user_activate_degree_dict)"
      ]
    },
    {
      "cell_type": "markdown",
      "metadata": {
        "id": "26JiPcDBsshy"
      },
      "source": [
        "### item embedding sim\n",
        "Using embeddings to calculate the similarity between items is intended to facilitate retrieving articles that do not appear in the click data during cold start scenarios. A detailed introduction to the cold start process will be provided later, but here is a brief explanation of Faiss.\n",
        "\n",
        "Faiss is an open-source software library developed by Facebook's AI team for clustering and similarity search, implemented in C++ at its core. Due to its outstanding performance, Faiss is widely used in recommendation-related services.\n",
        "\n",
        "The Faiss toolkit is typically used in the vector recall stage of recommendation systems. In vector recall, the goal can be `u2u`, `u2i`, or `i2i`, where `u` refers to a user and `i` to an item. In real-world scenarios, the number of users and items is massive. A straightforward approach for vector similarity recall would involve using two nested loops to iterate through the user or item lists and calculate the similarity between pairs of vectors. However, this approach is impractical when dealing with large-scale data. Faiss is designed to accelerate the process of finding the top-k most similar vectors to a given query vector.\n",
        "\n",
        "---\n",
        "\n",
        "Faiss is an open-source software library developed by Facebook's AI research team for efficient similarity search and clustering of dense vectors. It is particularly useful in scenarios where large-scale similarity search is required, such as recommendation systems, image retrieval, and natural language processing tasks. Faiss is implemented in C++ with bindings available for Python and other languages.\n",
        "\n",
        "The key feature of Faiss is its ability to perform approximate nearest neighbor search (ANN), which significantly speeds up the search process while maintaining high-quality results. Faiss achieves this by employing advanced algorithms and data structures optimized for high-dimensional vector spaces.\n",
        "\n",
        "Example:\n",
        "Let's consider a recommendation system scenario where we have a large number of user and item embeddings (dense vectors) representing users' preferences and items' features. The goal is to find the top-k most similar items to a given query item for personalized recommendations.\n",
        "\n",
        "\n",
        "```python\n",
        "import faiss\n",
        "\n",
        "# Sample data: embeddings of items (item_vectors) and the query item (query_vector)\n",
        "item_vectors = [[0.1, 0.2, 0.3], [0.4, 0.5, 0.6], [0.7, 0.8, 0.9], ...]\n",
        "query_vector = [0.3, 0.4, 0.5]\n",
        "\n",
        "# Convert the data to a numpy array\n",
        "item_vectors = np.array(item_vectors, dtype=np.float32)\n",
        "query_vector = np.array(query_vector, dtype=np.float32)\n",
        "\n",
        "# Create an index for searching in Faiss (FlatL2 index, which uses L2 distance)\n",
        "index = faiss.IndexFlatL2(item_vectors.shape[1])\n",
        "\n",
        "# Add the item embeddings to the index\n",
        "index.add(item_vectors)\n",
        "\n",
        "# Perform the similarity search with the query vector\n",
        "k = 5  # Number of nearest neighbors to retrieve\n",
        "D, I = index.search(np.array([query_vector]), k)\n",
        "\n",
        "# D: Distance of the query vector to the nearest neighbors (L2 distances)\n",
        "# I: Indices of the k nearest neighbors in the item_vectors\n",
        "\n",
        "# Print the results\n",
        "print(\"Top 5 similar items to the query item:\")\n",
        "for i in I[0]:\n",
        "    print(item_vectors[i])\n",
        "```\n",
        "\n",
        "**Principle of Faiss Query:**\n",
        "\n",
        "1. **Index Structure Construction:**  \n",
        "   In Faiss, the first step is to build an index structure for the vector dataset to be searched. Faiss provides various index structures, such as flat indexes, inverted file indexes (IVF), and product quantization indexes (PQ). Each index structure is suited to specific scenarios and requirements, allowing users to choose the most appropriate one based on their needs.\n",
        "\n",
        "2. **Vector Encoding:**  \n",
        "   Before constructing the index structure, vector data typically needs to be encoded. The purpose of encoding is to map high-dimensional vectors into a lower-dimensional space to reduce computation and storage costs. Common encoding methods include vector quantization and hash encoding.\n",
        "\n",
        "3. **Query Process:**  \n",
        "   Once the index structure is built, queries can be performed on it. The query process involves calculating the similarity between the query vector and the vectors stored in the index structure. Faiss provides multiple query methods, such as exact search and approximate search. In approximate search, Faiss uses algorithms such as Product Quantization (PQ) and Locality Sensitive Hashing (LSH) to accelerate the search process.\n",
        "\n",
        "4. **Result Retrieval:**  \n",
        "   After the query is complete, Faiss returns the indexes or distances of the top-k most similar vectors. Users can specify the number of results they need and process or analyze the returned results further.\n",
        "\n",
        "---\n",
        "\n",
        "1. **Product Quantization (PQ):**  \n",
        "   - PQ divides a high-dimensional vector into multiple sub-vectors and independently quantizes each sub-vector. This maps the original high-dimensional vector into a lower-dimensional subspace, reducing computation and storage requirements.\n",
        "   - The key to PQ lies in how the original vector is divided into sub-vectors and how appropriate quantization methods are designed. Common methods include Product Quantization and Residual Product Quantization.\n",
        "   - PQ significantly reduces search time while maintaining search quality, making it especially useful for large-scale high-dimensional data in approximate nearest neighbor searches.\n",
        "\n",
        "2. **Locality Sensitive Hashing (LSH):**  \n",
        "   - LSH is a hash-based method for approximate nearest neighbor search. Its core idea is to map similar vectors into the same bucket so that similar vectors can be quickly located during the query.\n",
        "   - LSH uses multiple hash functions to generate several hash values for each vector, which are then used to map the vectors into buckets. During a query, only the vectors in the query vector’s bucket and neighboring buckets are searched, eliminating the need to traverse the entire dataset.\n",
        "   - LSH provides high search efficiency and scalability when dealing with large-scale data, particularly for high-dimensional data in approximate nearest neighbor searches.\n",
        "\n",
        "---\n",
        "\n",
        "Faiss utilizes two key techniques for vector compression and encoding: **PCA** (Principal Component Analysis) and **PQ** (Product Quantization), along with other optimization techniques. However, PCA and PQ are the core components.\n",
        "\n",
        "1. **PCA for Dimensionality Reduction:**  \n",
        "   For details on PCA, refer to the following link:  \n",
        "   [Summary of Principal Component Analysis (PCA)](https://www.cnblogs.com/pinard/p/6239403.html)\n",
        "\n",
        "2. **Product Quantization (PQ) Encoding:**  \n",
        "   For more information on PQ, check out this link:  \n",
        "   [Understanding Product Quantization with Examples](http://www.fabwrite.com/productquantization)\n",
        "\n",
        "---\n",
        "\n",
        "**Using Faiss:**\n",
        "\n",
        "For the official Faiss tutorial, refer to:  \n",
        "[Faiss Official Tutorial](https://github.com/facebookresearch/faiss/wiki/Getting-started)"
      ]
    },
    {
      "cell_type": "markdown",
      "source": [
        "### Calculate Similarity Matrix Based on Article Embeddings  \n",
        "\n",
        "1. **Establish a Mapping Between Article Index and Article ID:**  \n",
        "   - Create a mapping that links each article's index in the dataset to its corresponding article ID.\n",
        "\n",
        "2. **Normalize Article Embedding Vectors:**  \n",
        "   - Perform unit normalization on the embedding vectors of the articles to ensure that each vector has a unit norm. This step improves the performance and accuracy of similarity calculations.\n",
        "\n",
        "3. **Build Faiss Index and Perform Similarity Query:**  \n",
        "   - Construct a Faiss index using the normalized embedding vectors.  \n",
        "   - Use the index to perform similarity searches and retrieve the top-k most similar articles for each query article.\n",
        "\n",
        "4. **Save the Similarity Matrix:**  \n",
        "   - Store the similarity matrix locally for future use in recommendation or retrieval tasks."
      ],
      "metadata": {
        "id": "ES9i_iHoeAiR"
      }
    },
    {
      "cell_type": "code",
      "execution_count": null,
      "metadata": {
        "id": "cuCglf6Osshz"
      },
      "outputs": [],
      "source": [
        "\n",
        "import numpy as np\n",
        "import faiss\n",
        "import collections\n",
        "import pickle\n",
        "from tqdm import tqdm\n",
        "\n",
        "def embdding_sim(click_df, item_emb_df, save_path, topk):\n",
        "    \"\"\"\n",
        "    Content-based article embedding similarity matrix calculation.\n",
        "    :param click_df: DataFrame containing click data.\n",
        "    :param item_emb_df: DataFrame containing article embeddings.\n",
        "    :param save_path: Path to save the similarity matrix.\n",
        "    :param topk: Number of most similar articles to retrieve.\n",
        "    :return: Article similarity matrix.\n",
        "\n",
        "    Approach: For each article, return the top-k most similar articles based on embedding similarity.\n",
        "    Since the number of articles is large, Faiss is used to accelerate the process.\n",
        "    \"\"\"\n",
        "\n",
        "    # Dictionary mapping between article index and article ID\n",
        "    item_idx_2_rawid_dict = dict(zip(item_emb_df.index, item_emb_df['article_id']))\n",
        "\n",
        "    # Extract embedding columns\n",
        "    item_emb_cols = [x for x in item_emb_df.columns if 'emb' in x]\n",
        "    item_emb_np = np.ascontiguousarray(item_emb_df[item_emb_cols].values, dtype=np.float32)\n",
        "\n",
        "    # Normalize the vectors\n",
        "    item_emb_np = item_emb_np / np.linalg.norm(item_emb_np, axis=1, keepdims=True)\n",
        "\n",
        "    # Build Faiss index\n",
        "    item_index = faiss.IndexFlatIP(item_emb_np.shape[1])  # Inner Product index, embedding vector dimension as parameter\n",
        "    item_index.add(item_emb_np)  # Add embeddings to the index\n",
        "\n",
        "    # Perform similarity search for each article, returning top-k similar vectors\n",
        "    sim, idx = item_index.search(item_emb_np, topk)\n",
        "\n",
        "    # Dictionary to store similarity results with original article IDs\n",
        "    item_sim_dict = collections.defaultdict(dict)\n",
        "\n",
        "    # Add progress bar using tqdm\n",
        "    for target_idx, sim_value_list, rele_idx_list in tqdm(zip(range(len(item_emb_np)), sim, idx), total=len(item_emb_np)):\n",
        "        target_raw_id = item_idx_2_rawid_dict[target_idx]\n",
        "        # Start from 1 to exclude the article itself, so the final result contains topk-1 similar articles\n",
        "        for rele_idx, sim_value in zip(rele_idx_list[1:], sim_value_list[1:]):\n",
        "            rele_raw_id = item_idx_2_rawid_dict[rele_idx]\n",
        "            item_sim_dict[target_raw_id][rele_raw_id] = item_sim_dict.get(target_raw_id, {}).get(rele_raw_id, 0) + sim_value\n",
        "\n",
        "    # Save the item-to-item similarity matrix as a pickle file\n",
        "    pickle.dump(item_sim_dict, open(save_path + 'emb_i2i_sim.pkl', 'wb'))\n",
        "\n",
        "    return item_sim_dict\n"
      ]
    },
    {
      "cell_type": "code",
      "execution_count": null,
      "metadata": {
        "id": "avFWDlWbsshz",
        "scrolled": true
      },
      "outputs": [],
      "source": [
        "item_emb_df = pd.read_csv(data_path + '/articles_emb.csv')\n",
        "# emb_i2i_sim = embdding_sim(all_click_df, item_emb_df, save_path, topk=10) # topk可以自行设置"
      ]
    },
    {
      "cell_type": "markdown",
      "metadata": {
        "id": "4zUBX5xxssh1"
      },
      "source": [
        "### itemcf recall\n",
        "Using the similarity matrices obtained through collaborative filtering and embedding-based retrieval, we can now implement a recall mechanism to recommend articles similar to the user’s previously clicked articles. In this recall process, we adopt the following association rule-based approach:\n",
        "\n",
        "1. **Weight Based on the Order of Similar and Previously Clicked Articles:**  \n",
        "   - The recall process assigns weights considering the order in which the user clicked the articles. (See the code for detailed implementation.)\n",
        "\n",
        "2. **Weight Based on Article Creation Time:**  \n",
        "   - We assign weights based on the difference in creation times between the similar articles and the previously clicked articles.\n",
        "\n",
        "3. **Weight Based on Content Similarity of Articles:**  \n",
        "   - We use embeddings to calculate the similarity between articles. However, it’s important to note that the embedding calculation does not compute the similarity between every pair of articles. Thus, if there is no existing similarity between a similar article and a previously clicked article, special handling is required."
      ]
    },
    {
      "cell_type": "code",
      "execution_count": null,
      "metadata": {
        "id": "Mjh6JHOzssh2"
      },
      "outputs": [],
      "source": [
        "\n",
        "# Content-based recall for item-to-item (i2i)\n",
        "def content_based_recommend(user_id, user_item_time_dict, i2i_sim, sim_item_topk, recall_item_num, item_topk_click, item_created_time_dict, emb_i2i_sim):\n",
        "    \"\"\"\n",
        "    Recall based on article collaborative filtering.\n",
        "    :param user_id: User ID\n",
        "    :param user_item_time_dict: Dictionary to retrieve the user's clicked article sequence based on click time {user1: [(item1, time1), (item2, time2), ...]...}\n",
        "    :param i2i_sim: Dictionary of article similarity matrix\n",
        "    :param sim_item_topk: Integer, selecting the top k articles most similar to the current article\n",
        "    :param recall_item_num: Integer, the final number of recalled articles\n",
        "    :param item_topk_click: List, the list of articles with the most clicks for user recall completion\n",
        "    :param emb_i2i_sim: Dictionary based on content embedding for article similarity matrix\n",
        "\n",
        "    return: Recalled article list [(item1, score1), (item2, score2)...]\n",
        "    \"\"\"\n",
        "    # Get the user's historical interacted articles\n",
        "    user_hist_items = user_item_time_dict[user_id]\n",
        "    user_hist_items_ = {user_id for user_id, _ in user_hist_items}\n",
        "\n",
        "    item_rank = {}\n",
        "    for loc, (i, click_time) in enumerate(user_hist_items):\n",
        "        for j, wij in sorted(i2i_sim[i].items(), key=lambda x: x[1], reverse=True)[:sim_item_topk]:\n",
        "            if j in user_hist_items_:\n",
        "                continue\n",
        "\n",
        "            # Weight based on the difference in creation times\n",
        "            created_time_weight = np.exp(0.8 ** np.abs(item_created_time_dict[i] - item_created_time_dict[j]))\n",
        "            # Weight based on the position of the historical article in the user's clicked sequence\n",
        "            loc_weight = (0.9 ** (len(user_hist_items) - loc))\n",
        "\n",
        "            content_weight = 1.0\n",
        "            if emb_i2i_sim.get(i, {}).get(j, None) is not None:\n",
        "                content_weight += emb_i2i_sim[i][j]\n",
        "            if emb_i2i_sim.get(j, {}).get(i, None) is not None:\n",
        "                content_weight += emb_i2i_sim[j][i]\n",
        "\n",
        "            item_rank.setdefault(j, 0)\n",
        "            item_rank[j] += created_time_weight * loc_weight * content_weight * wij\n",
        "\n",
        "    # Fill up with popular items if fewer than 10\n",
        "    if len(item_rank) < recall_item_num:\n",
        "        for i, item in enumerate(item_topk_click):\n",
        "            if item in item_rank:  # Items to fill should not be in the original list\n",
        "                continue\n",
        "            item_rank[item] = -i - 100  # Assign any negative value\n",
        "            if len(item_rank) == recall_item_num:\n",
        "                break\n",
        "\n",
        "    item_rank = sorted(item_rank.items(), key=lambda x: x[1], reverse=True)[:recall_item_num]\n",
        "\n",
        "    return item_rank\n"
      ]
    },
    {
      "cell_type": "markdown",
      "source": [
        "```python\n",
        "content_weight = 1.0\n",
        "if emb_i2i_sim.get(i, {}).get(j, None) is not None:\n",
        "    content_weight += emb_i2i_sim[i][j]\n",
        "if emb_i2i_sim.get(j, {}).get(i, None) is not None:\n",
        "    content_weight += emb_i2i_sim[j][i]\n",
        "\n",
        "```\n",
        "The `emb_i2i_sim` here is the article similarity matrix calculated based on content embeddings. Since the similarity between all article pairs was not computed during the embedding calculation, the `content_weight` is initially set to 1.0 when considering the content similarity weight between article i and article j.\n",
        "\n",
        "Then, we check whether the similarity between article i and article j exists in `emb_i2i_sim`, as well as whether the similarity from article j to article i exists. If either exists, the corresponding similarity value is added to `content_weight`.\n",
        "\n",
        "In this way, when there is no directly computed similarity between the two articles, `content_weight` remains at 1.0. If there is an indirect similarity relationship (i.e., either article i has similarity to article j or article j has similarity to article i), the value of `content_weight` will be increased accordingly. This effectively compensates for the lack of direct computation of similarities between all article pairs, allowing for special handling of the situation."
      ],
      "metadata": {
        "id": "dfWaqOBngvng"
      }
    },
    {
      "cell_type": "markdown",
      "metadata": {
        "id": "1UsQZd_Vssh2"
      },
      "source": [
        "#### itemcf sim recall"
      ]
    },
    {
      "cell_type": "code",
      "execution_count": null,
      "metadata": {
        "id": "LHyQKK3sssh2",
        "scrolled": true,
        "colab": {
          "base_uri": "https://localhost:8080/"
        },
        "outputId": "a5ddef94-27ad-4543-c56a-9d676190a5e8"
      },
      "outputs": [
        {
          "output_type": "stream",
          "name": "stderr",
          "text": [
            "100%|██████████| 362/362 [00:00<00:00, 966.47it/s]\n"
          ]
        }
      ],
      "source": [
        "# First, perform item-based collaborative filtering (itemCF) recall. To evaluate the recall, extract the last click.\n",
        "\n",
        "if metric_recall:\n",
        "    trn_hist_click_df, trn_last_click_df = get_hist_and_last_click(all_click_df)\n",
        "else:\n",
        "    trn_hist_click_df = all_click_df\n",
        "\n",
        "user_recall_items_dict = collections.defaultdict(dict)\n",
        "user_item_time_dict = get_user_item_time(trn_hist_click_df)\n",
        "\n",
        "i2i_sim = pickle.load(open(save_path + 'itemcf_i2i_sim.pkl', 'rb'))\n",
        "emb_i2i_sim = pickle.load(open(save_path + 'emb_i2i_sim.pkl', 'rb'))\n",
        "\n",
        "sim_item_topk = 20\n",
        "recall_item_num = 10\n",
        "item_topk_click = get_item_topk_click(trn_hist_click_df, k=50)\n",
        "\n",
        "np.random.seed(42)  # set random seed\n",
        "for user in tqdm(trn_hist_click_df['user_id'].sample(500).unique()):\n",
        "    user_recall_items_dict[user] = content_based_recommend(user, user_item_time_dict, \\\n",
        "                                                        i2i_sim, sim_item_topk, recall_item_num, \\\n",
        "                                                        item_topk_click, item_created_time_dict, emb_i2i_sim)\n",
        "\n",
        "user_multi_recall_dict['itemcf_sim_itemcf_recall'] = user_recall_items_dict\n",
        "pickle.dump(user_multi_recall_dict['itemcf_sim_itemcf_recall'], open(save_path + 'itemcf_recall_dict.pkl', 'wb'))\n",
        "\n",
        "if metric_recall:\n",
        "    # 召回效果评估\n",
        "    metrics_recall(user_multi_recall_dict['itemcf_sim_itemcf_recall'], trn_last_click_df, topk=recall_item_num)"
      ]
    },
    {
      "cell_type": "markdown",
      "metadata": {
        "id": "sqDHTNi1ssh2"
      },
      "source": [
        "#### embedding sim recall"
      ]
    },
    {
      "cell_type": "code",
      "execution_count": null,
      "metadata": {
        "id": "jnvpTO_Issh3",
        "scrolled": true,
        "colab": {
          "base_uri": "https://localhost:8080/"
        },
        "outputId": "91c332fb-dce9-4a3c-a629-488747d6db98"
      },
      "outputs": [
        {
          "output_type": "stream",
          "name": "stderr",
          "text": [
            "100%|██████████| 362/362 [00:00<00:00, 1905.33it/s]\n"
          ]
        }
      ],
      "source": [
        "\n",
        "# This is for recall evaluation, so the last click is extracted\n",
        "if metric_recall:\n",
        "    trn_hist_click_df, trn_last_click_df = get_hist_and_last_click(all_click_df)\n",
        "else:\n",
        "    trn_hist_click_df = all_click_df\n",
        "\n",
        "user_recall_items_dict = collections.defaultdict(dict)\n",
        "user_item_time_dict = get_user_item_time(trn_hist_click_df)\n",
        "i2i_sim = pickle.load(open(save_path + 'emb_i2i_sim.pkl', 'rb'))\n",
        "\n",
        "sim_item_topk = 20\n",
        "recall_item_num = 10\n",
        "\n",
        "item_topk_click = get_item_topk_click(trn_hist_click_df, k=50)\n",
        "\n",
        "np.random.seed(42)  # Set random seed\n",
        "for user in tqdm(trn_hist_click_df['user_id'].sample(500).unique()):\n",
        "    user_recall_items_dict[user] = content_based_recommend(user, user_item_time_dict, i2i_sim, sim_item_topk,\n",
        "                                                            recall_item_num, item_topk_click, item_created_time_dict, emb_i2i_sim)\n",
        "\n",
        "user_multi_recall_dict['embedding_sim_item_recall'] = user_recall_items_dict\n",
        "pickle.dump(user_multi_recall_dict['embedding_sim_item_recall'], open(save_path + 'embedding_sim_item_recall.pkl', 'wb'))\n",
        "\n",
        "if metric_recall:\n",
        "    # Recall performance evaluation\n",
        "    metrics_recall(user_multi_recall_dict['embedding_sim_item_recall'], trn_last_click_df, topk=recall_item_num)\n"
      ]
    },
    {
      "cell_type": "markdown",
      "metadata": {
        "id": "BHJ-jGeAssh3"
      },
      "source": [
        "### UserCF Recall\n",
        "\n",
        "Based on user collaborative filtering, the core idea is to recommend articles that are similar to the historical clicks of users with similar profiles. Since this involves the historical articles of similar users, we can still apply some association rules to weight the articles that the user might click. The association rules used here primarily consider the relationship weights between the historical clicked articles of similar users and the articles clicked by the recommended user. This relationship can directly borrow from the methods used in item-based collaborative filtering, but it involves an accumulation process of the relationships for the recommended items. Below are some of the relationship weights used and the relevant code:\n",
        "\n",
        "1. Calculate the similarity between the historical clicked articles of the recommended user and those of similar users, taking into account the differences in article creation times and the total relative positions, which serve as respective weights."
      ]
    },
    {
      "cell_type": "code",
      "execution_count": null,
      "metadata": {
        "id": "inPcP-F9ssh3"
      },
      "outputs": [],
      "source": [
        "# 基于用户的召回 u2u2i\n",
        "def user_based_recommend(user_id, user_item_time_dict, u2u_sim, sim_user_topk, recall_item_num,\n",
        "                         item_topk_click, item_created_time_dict, emb_i2i_sim):\n",
        "    \"\"\"\n",
        "        基于文章协同过滤的召回\n",
        "        :param user_id: 用户id\n",
        "        :param user_item_time_dict: 字典, 根据点击时间获取用户的点击文章序列   {user1: [(item1, time1), (item2, time2)..]...}\n",
        "        :param u2u_sim: 字典，文章相似性矩阵\n",
        "        :param sim_user_topk: 整数， 选择与当前用户最相似的前k个用户\n",
        "        :param recall_item_num: 整数， 最后的召回文章数量\n",
        "        :param item_topk_click: 列表，点击次数最多的文章列表，用户召回补全\n",
        "        :param item_created_time_dict: 文章创建时间列表\n",
        "        :param emb_i2i_sim: 字典基于内容embedding算的文章相似矩阵\n",
        "\n",
        "        return: 召回的文章列表 [(item1, score1), (item2, score2)...]\n",
        "    \"\"\"\n",
        "    # 历史交互\n",
        "    user_item_time_list = user_item_time_dict[user_id]    #  [(item1, time1), (item2, time2)..]\n",
        "    user_hist_items = set([i for i, t in user_item_time_list])   # 存在一个用户与某篇文章的多次交互， 这里得去重\n",
        "\n",
        "    items_rank = {}\n",
        "    for sim_u, wuv in sorted(u2u_sim[user_id].items(), key=lambda x: x[1], reverse=True)[:sim_user_topk]:\n",
        "        for i, click_time in user_item_time_dict[sim_u]:\n",
        "            if i in user_hist_items:\n",
        "                continue\n",
        "            items_rank.setdefault(i, 0)\n",
        "\n",
        "            loc_weight = 1.0\n",
        "            content_weight = 1.0\n",
        "            created_time_weight = 1.0\n",
        "\n",
        "            # 当前文章与该用户看的历史文章进行一个权重交互\n",
        "            for loc, (j, click_time) in enumerate(user_item_time_list):\n",
        "                # 点击时的相对位置权重\n",
        "                loc_weight += 0.9 ** (len(user_item_time_list) - loc)\n",
        "                # 内容相似性权重\n",
        "                if emb_i2i_sim.get(i, {}).get(j, None) is not None:\n",
        "                    content_weight += emb_i2i_sim[i][j]\n",
        "                if emb_i2i_sim.get(j, {}).get(i, None) is not None:\n",
        "                    content_weight += emb_i2i_sim[j][i]\n",
        "\n",
        "                # 创建时间差权重\n",
        "                created_time_weight += np.exp(0.8 * np.abs(item_created_time_dict[i] - item_created_time_dict[j]))\n",
        "\n",
        "            items_rank[i] += loc_weight * content_weight * created_time_weight * wuv\n",
        "\n",
        "    # 热度补全\n",
        "    if len(items_rank) < recall_item_num:\n",
        "        for i, item in enumerate(item_topk_click):\n",
        "            if item in items_rank.items(): # 填充的item应该不在原来的列表中\n",
        "                continue\n",
        "            items_rank[item] = - i - 100 # 随便给个复数就行\n",
        "            if len(items_rank) == recall_item_num:\n",
        "                break\n",
        "\n",
        "    items_rank = sorted(items_rank.items(), key=lambda x: x[1], reverse=True)[:recall_item_num]\n",
        "\n",
        "    return items_rank"
      ]
    },
    {
      "cell_type": "markdown",
      "metadata": {
        "id": "b2-TQHnossh4"
      },
      "source": [
        "#### usercf sim recall"
      ]
    },
    {
      "cell_type": "code",
      "execution_count": null,
      "metadata": {
        "id": "kjxfK_Xqssh4",
        "colab": {
          "base_uri": "https://localhost:8080/"
        },
        "outputId": "870a0665-f0ff-45d8-f7d4-a1520f2a9818"
      },
      "outputs": [
        {
          "output_type": "stream",
          "name": "stderr",
          "text": [
            "100%|██████████| 362/362 [00:04<00:00, 80.62it/s]\n"
          ]
        }
      ],
      "source": [
        "\n",
        "# User-based recall u2u2i\n",
        "def user_based_recommend(user_id, user_item_time_dict, u2u_sim, sim_user_topk, recall_item_num,\n",
        "                         item_topk_click, item_created_time_dict, emb_i2i_sim):\n",
        "    \"\"\"\n",
        "    Recall based on article collaborative filtering.\n",
        "    :param user_id: User ID\n",
        "    :param user_item_time_dict: Dictionary to retrieve the user's clicked article sequence based on click time {user1: [(item1, time1), (item2, time2), ...]...}\n",
        "    :param u2u_sim: Dictionary of user similarity matrix\n",
        "    :param sim_user_topk: Integer, selecting the top k users most similar to the current user\n",
        "    :param recall_item_num: Integer, the final number of recalled articles\n",
        "    :param item_topk_click: List, the list of articles with the most clicks for user recall completion\n",
        "    :param item_created_time_dict: List of article creation times\n",
        "    :param emb_i2i_sim: Dictionary based on content embedding for article similarity matrix\n",
        "\n",
        "    return: Recalled article list [(item1, score1), (item2, score2)...]\n",
        "    \"\"\"\n",
        "    # Historical interactions\n",
        "    user_item_time_list = user_item_time_dict[user_id]  # [(item1, time1), (item2, time2), ...]\n",
        "    user_hist_items = set([i for i, t in user_item_time_list])  # Remove duplicates as a user may interact with the same article multiple times\n",
        "\n",
        "    items_rank = {}\n",
        "    for sim_u, wuv in sorted(u2u_sim[user_id].items(), key=lambda x: x[1], reverse=True)[:sim_user_topk]:\n",
        "        for i, click_time in user_item_time_dict[sim_u]:\n",
        "            if i in user_hist_items:\n",
        "                continue\n",
        "            items_rank.setdefault(i, 0)\n",
        "\n",
        "            loc_weight = 1.0\n",
        "            content_weight = 1.0\n",
        "            created_time_weight = 1.0\n",
        "\n",
        "            # Interact weights between the current article and the historical articles viewed by this user\n",
        "            for loc, (j, click_time) in enumerate(user_item_time_list):\n",
        "                # Relative position weight during clicks\n",
        "                loc_weight += 0.9 ** (len(user_item_time_list) - loc)\n",
        "                # Content similarity weight\n",
        "                if emb_i2i_sim.get(i, {}).get(j, None) is not None:\n",
        "                    content_weight += emb_i2i_sim[i][j]\n",
        "                if emb_i2i_sim.get(j, {}).get(i, None) is not None:\n",
        "                    content_weight += emb_i2i_sim[j][i]\n",
        "\n",
        "                # Creation time difference weight\n",
        "                created_time_weight += np.exp(0.8 * np.abs(item_created_time_dict[i] - item_created_time_dict[j]))\n",
        "\n",
        "            items_rank[i] += loc_weight * content_weight * created_time_weight * wuv\n",
        "\n",
        "    # Hot item completion\n",
        "    if len(items_rank) < recall_item_num:\n",
        "        for i, item in enumerate(item_topk_click):\n",
        "            if item in items_rank:  # Items to fill should not be in the original list\n",
        "                continue\n",
        "            items_rank[item] = -i - 100  # Assign any negative value\n",
        "            if len(items_rank) == recall_item_num:\n",
        "                break\n",
        "\n",
        "    items_rank = sorted(items_rank.items(), key=lambda x: x[1], reverse=True)[:recall_item_num]\n",
        "\n",
        "    return items_rank"
      ]
    },
    {
      "cell_type": "markdown",
      "metadata": {
        "id": "Oi36TwWZssh_"
      },
      "source": [
        "##  Cold Start Problem"
      ]
    },
    {
      "cell_type": "markdown",
      "metadata": {
        "id": "qTzxr7f2ssh_"
      },
      "source": [
        "**The cold start problem can be divided into three categories: article cold start, user cold start, and system cold start.**\n",
        "\n",
        "- **Article Cold Start:** This refers to the challenge of recommending newly added articles to a platform that have no interaction records. (In our context, articles that have not appeared in the log data can be considered cold start articles.)\n",
        "\n",
        "- **User Cold Start:** This pertains to a new user on the platform who has no interaction information regarding articles. The challenge is how to recommend articles to this user. (In our context, we can determine if a user in the test set has appeared in the corresponding log data. If they have not, they can be considered a cold start user. However, this criterion can be flexible; we might define certain metrics to identify cold start users, such as usage duration, click-through rates, retention rates, etc.)\n",
        "\n",
        "- **System Cold Start:** This occurs when a platform has just launched and has no relevant historical data. It is essentially a combination of the previous two types.\n",
        "\n",
        "---\n",
        "\n",
        "**Analysis of the Cold Start Problem in the Current Context:**\n",
        "\n",
        "Analyzing the current data reveals that there are only about 30,000 articles clicked in the logs, while the entire article database contains over 300,000 articles. This raises the question: will users in the test set click on articles that do not appear in the logs? If such cases exist, it indicates that the articles clicked by users previously lack any interaction information, representing what we call article cold start. Further analysis shows that a significant proportion of users in the test set have only one click recorded. Recommending articles based solely on a single click from the user is challenging. This also highlights the user cold start issue, but we will focus on providing solutions and code for the article cold start while suggesting feasible approaches for user cold start.\n",
        "\n",
        "1. **Article Cold Start (Exploration of Non-cold Start Articles):**  \n",
        "   Our goal is not to specifically address the cold start of articles, but rather to predict which articles users might click that have not appeared in the log data. We need to determine how to select a subset of articles from nearly 270,000 options as potential cold start articles. This can be viewed as a recall strategy, and we will adopt a simple rule-based recall strategy to identify articles that users may click but that have not been logged.\n",
        "\n",
        "   The question now becomes: how do we select a small portion of articles for each user from 270,000 options? Random selection might be one approach. Below are some suggested strategies:\n",
        "   - **Embedding-based Recall:** Retrieve a subset of articles similar to the user's historical clicks by utilizing the article embedding vectors to find articles that are close to the user's clicked articles in vector space.\n",
        "   - **Rule Filtering:** Apply rules to filter the articles recalled based on embeddings. For example, retain articles with similar themes to the user’s historical clicks and similar word counts; select articles whose creation dates are closer to the last click time of the test set user or articles created on that day. This approach can enhance the likelihood of recalled articles being clicked by users.\n",
        "\n",
        "2. **User Cold Start:**  \n",
        "   Analysis of the click data for users in the test set shows that about 20% of users have only one click recorded. Can we implement specific strategies for these users with very few clicks? Alternatively, could we enhance the recommendations by adding some articles based on rules after sorting?"
      ]
    },
    {
      "cell_type": "code",
      "execution_count": null,
      "metadata": {
        "id": "2wNahZ8LssiA",
        "colab": {
          "base_uri": "https://localhost:8080/"
        },
        "outputId": "4cccd745-f852-4302-b902-bb6bb93a6721"
      },
      "outputs": [
        {
          "output_type": "stream",
          "name": "stderr",
          "text": [
            "100%|██████████| 362/362 [00:00<00:00, 839.15it/s]\n"
          ]
        }
      ],
      "source": [
        "\n",
        "# First, perform itemCF recall. There is no need for recall evaluation here; this is merely a strategy.\n",
        "trn_hist_click_df = all_click_df\n",
        "\n",
        "user_recall_items_dict = collections.defaultdict(dict)\n",
        "user_item_time_dict = get_user_item_time(trn_hist_click_df)\n",
        "i2i_sim = pickle.load(open(save_path + 'emb_i2i_sim.pkl', 'rb'))\n",
        "\n",
        "sim_item_topk = 150\n",
        "recall_item_num = 100  # Recall a slightly larger number of articles for subsequent rule filtering\n",
        "\n",
        "np.random.seed(42)  # Set random seed\n",
        "item_topk_click = get_item_topk_click(trn_hist_click_df, k=50)\n",
        "for user in tqdm(trn_hist_click_df['user_id'].sample(500).unique()):\n",
        "    user_recall_items_dict[user] = content_based_recommend(user, user_item_time_dict, i2i_sim, sim_item_topk,\n",
        "                                                            recall_item_num, item_topk_click, item_created_time_dict, emb_i2i_sim)\n",
        "pickle.dump(user_recall_items_dict, open(save_path + 'cold_start_items_raw_dict.pkl', 'wb'))\n"
      ]
    },
    {
      "cell_type": "code",
      "execution_count": null,
      "metadata": {
        "id": "e2ROna5YssiB"
      },
      "outputs": [],
      "source": [
        "# Article filtering based on rules\n",
        "# Retain articles with similar themes to the user's historical browsing topics\n",
        "# Retain articles with a word count similar to the user's historical clicked articles\n",
        "# Retain articles created on the same day as the last click\n",
        "# Return the final results sorted by similarity\n",
        "\n",
        "def get_click_article_ids_set(all_click_df):\n",
        "    return set(all_click_df.click_article_id.values)\n",
        "\n",
        "def cold_start_items(user_recall_items_dict, user_hist_item_typs_dict, user_hist_item_words_dict, \\\n",
        "                     user_last_item_created_time_dict, item_type_dict, item_words_dict,\n",
        "                     item_created_time_dict, click_article_ids_set, recall_item_num):\n",
        "    \"\"\"\n",
        "    Recall articles in the case of cold start.\n",
        "    :param user_recall_items_dict: Many articles recalled based on content embedding similarity,\n",
        "                                    dictionary format: {user1: [(item1, item2), ..], }\n",
        "    :param user_hist_item_typs_dict: Dictionary mapping the themes of articles clicked by users\n",
        "    :param user_hist_item_words_dict: Dictionary mapping the word counts of users' historical articles\n",
        "    :param user_last_item_created_time_dict: Dictionary mapping the creation times of users' historical articles\n",
        "    :param item_type_dict: Dictionary mapping article themes\n",
        "    :param item_words_dict: Dictionary mapping article word counts\n",
        "    :param item_created_time_dict: Dictionary mapping article creation times\n",
        "    :param click_article_ids_set: Set of articles that the user has clicked, i.e., articles that have appeared in the logs\n",
        "    :param recall_item_num: The number of articles to recall, referring to the number of articles that have not appeared in the logs\n",
        "    \"\"\"\n",
        "\n",
        "    cold_start_user_items_dict = {}\n",
        "    for user, item_list in tqdm(user_recall_items_dict.items()):\n",
        "        cold_start_user_items_dict.setdefault(user, [])\n",
        "        for item, score in item_list:\n",
        "            # Get historical article information\n",
        "            hist_item_type_set = user_hist_item_typs_dict[user]\n",
        "            hist_mean_words = user_hist_item_words_dict[user]\n",
        "            hist_last_item_created_time = user_last_item_created_time_dict[user]\n",
        "            hist_last_item_created_time = datetime.fromtimestamp(hist_last_item_created_time)\n",
        "\n",
        "            # Get current recalled article information\n",
        "            curr_item_type = item_type_dict[item]\n",
        "            curr_item_words = item_words_dict[item]\n",
        "            curr_item_created_time = item_created_time_dict[item]\n",
        "            curr_item_created_time = datetime.fromtimestamp(curr_item_created_time)\n",
        "\n",
        "            # First, the article must not appear in the user's historical clicks. Then filter based on article theme, word count, and creation time.\n",
        "            if curr_item_type not in hist_item_type_set or \\\n",
        "                item in click_article_ids_set or \\\n",
        "                abs(curr_item_words - hist_mean_words) > 200 or \\\n",
        "                abs((curr_item_created_time - hist_last_item_created_time).days) > 90:\n",
        "                continue\n",
        "\n",
        "            cold_start_user_items_dict[user].append((item, score))  # {user1: [(item1, score1), (item2, score2)..]...}\n",
        "\n",
        "    # Control the number of recalled cold start items\n",
        "    cold_start_u\n"
      ]
    },
    {
      "cell_type": "markdown",
      "source": [
        "The main objective is to recall articles that users may be interested in based on their historical browsing records and the features of the articles in cold start scenarios. The specific logic is as follows:\n",
        "\n",
        "1. Traverse the list of articles recalled based on embeddings. For each article, retrieve the relevant information about the user's historical clicked articles (theme set, average word count, last click time) and the current recalled article's information (theme, word count, creation time).\n",
        "\n",
        "2. Apply a series of filtering rules:\n",
        "\n",
        "   - The article must not appear in the user's historical clicks to ensure the novelty of the recommendations.\n",
        "   - The article's theme should be present in the user's historical clicked article theme set to ensure thematic similarity.\n",
        "   - The word count of the article must not differ from the user's historical clicked articles' average word count by more than 200, ensuring similar content length.\n",
        "   - The creation time of the article should not differ from the creation time of the user's last clicked article by more than 90 days to ensure that the recommended articles are relatively recent.\n",
        "\n",
        "3. If the article passes these filtering criteria, it is added to the user's cold start recommendation list.\n",
        "\n",
        "4. Finally, sort each user's cold start recommendation list by the scores of the articles and retain the top `recall_item_num` articles to ensure that the number of recommendations meets the requirements. The processed cold start recommendation results are saved as a pickle file."
      ],
      "metadata": {
        "id": "ZK0O6xuUhppw"
      }
    },
    {
      "cell_type": "code",
      "execution_count": null,
      "metadata": {
        "id": "jjc-k0nossiB",
        "colab": {
          "base_uri": "https://localhost:8080/"
        },
        "outputId": "140664a7-0f32-4615-cac8-4ef472ed6256"
      },
      "outputs": [
        {
          "output_type": "stream",
          "name": "stderr",
          "text": [
            "100%|██████████| 362/362 [00:00<00:00, 2257.18it/s]\n"
          ]
        }
      ],
      "source": [
        "all_click_df_ = all_click_df.copy()\n",
        "all_click_df_ = all_click_df_.merge(item_info_df, how='left', on='click_article_id')\n",
        "user_hist_item_typs_dict, user_hist_item_ids_dict, user_hist_item_words_dict, user_last_item_created_time_dict = get_user_hist_item_info_dict(all_click_df_)\n",
        "click_article_ids_set = get_click_article_ids_set(all_click_df)\n",
        "\n",
        "# It is important to note that\n",
        "# Many rules are used to filter cold start articles, so in the previous recall stage,\n",
        "# it is necessary to recall as many articles as possible; otherwise, they are likely to be filtered out.\n",
        "cold_start_user_items_dict = cold_start_items(user_recall_items_dict, user_hist_item_typs_dict, user_hist_item_words_dict, \\\n",
        "                                              user_last_item_created_time_dict, item_type_dict, item_words_dict, \\\n",
        "                                              item_created_time_dict, click_article_ids_set, recall_item_num)\n",
        "\n",
        "user_multi_recall_dict['cold_start_recall'] = cold_start_user_items_dict\n"
      ]
    },
    {
      "cell_type": "markdown",
      "metadata": {
        "id": "Etgz8BB3ssiC"
      },
      "source": [
        "## Multi-route Recall Merging\n",
        "\n",
        "Multi-route recall merging involves combining the user article lists obtained from all the previous recall strategies. Below is a summary of all the recall results:\n",
        "\n",
        "1. Recall based on the similarity `sim` between items calculated using item-based collaborative filtering (itemCF).\n",
        "2. Recall based on the similarity between items obtained through embedding searches.\n",
        "3. Recall based on cold start strategies."
      ]
    },
    {
      "cell_type": "code",
      "execution_count": null,
      "metadata": {
        "id": "t9bLJ_EfssiC"
      },
      "outputs": [],
      "source": [
        "def combine_recall_results(user_multi_recall_dict, weight_dict=None, topk=25):\n",
        "    final_recall_items_dict = {}\n",
        "\n",
        "    # Normalize the recall results for each method by user, allowing for the weights of items to be summed across different recall results for the same user\n",
        "    def norm_user_recall_items_sim(sorted_item_list):\n",
        "        # If there are no articles in the cold start or only one article, return directly. This situation may occur if the number of articles recalled in the cold start is too low,\n",
        "        # resulting in no articles after rule filtering. Other strategic filtering can also be implemented here.\n",
        "        if len(sorted_item_list) < 2:\n",
        "            return sorted_item_list\n",
        "\n",
        "        min_sim = sorted_item_list[-1][1]\n",
        "        max_sim = sorted_item_list[0][1]\n",
        "\n",
        "        norm_sorted_item_list = []\n",
        "        for item, score in sorted_item_list:\n",
        "            if max_sim > 0:\n",
        "                norm_score = 1.0 * (score - min_sim) / (max_sim - min_sim) if max_sim > min_sim else 1.0\n",
        "            else:\n",
        "                norm_score = 0.0\n",
        "            norm_sorted_item_list.append((item, norm_score))\n",
        "\n",
        "        return norm_sorted_item_list\n",
        "\n",
        "    print('Merging multi-route recall results...')\n",
        "    for method, user_recall_items in tqdm(user_multi_recall_dict.items()):\n",
        "        print(method + '...')\n",
        "        # Optionally set a weight for each recall method when calculating the final recall results\n",
        "        if weight_dict is None:\n",
        "            recall_method_weight = 1\n",
        "        else:\n",
        "            recall_method_weight = weight_dict[method]\n",
        "\n",
        "        for user_id, sorted_item_list in user_recall_items.items():  # Normalize the results\n",
        "            user_recall_items[user_id] = norm_user_recall_items_sim(sorted_item_list)\n",
        "\n",
        "        for user_id, sorted_item_list in user_recall_items.items():\n",
        "            final_recall_items_dict.setdefault(user_id, {})\n",
        "            for item, score in sorted_item_list:\n",
        "                final_recall_items_dict[user_id].setdefault(item, 0)\n",
        "                final_recall_items_dict[user_id][item] += recall_method_weight * score\n",
        "\n",
        "    final_recall_items_dict_rank = {}\n",
        "    # Control the final recall quantity during multi-route recall\n",
        "    for user, recall_item_dict in final_recall_items_dict.items():\n",
        "        final_recall_items_dict_rank[user] = sorted(recall_item_dict.items(), key=lambda x: x[1], reverse=True)[:topk]\n",
        "\n",
        "    # Save the final results dictionary from multi-route recall to local storage\n",
        "    pickle.dump(final_recall_items_dict_rank, open(os.path.join(save_path, 'final_recall_items_dict.pkl'), 'wb'))\n",
        "\n",
        "    return final_recall_items_dict_rank\n"
      ]
    },
    {
      "cell_type": "code",
      "execution_count": null,
      "metadata": {
        "id": "VFgMvCqqssiC"
      },
      "outputs": [],
      "source": [
        "# Here, a uniform value is assigned to the weights of the multi-route recall, but it can actually be adjusted based on the results of the previous recalls.\n",
        "weight_dict = {'itemcf_sim_itemcf_recall': 1.0,\n",
        "               'embedding_sim_item_recall': 1.0,\n",
        "               'cold_start_recall': 1.0}"
      ]
    },
    {
      "cell_type": "code",
      "execution_count": null,
      "metadata": {
        "id": "Fk3nPUCXssiC",
        "colab": {
          "base_uri": "https://localhost:8080/"
        },
        "outputId": "7f608716-9bab-4394-a377-cc29da21652e"
      },
      "outputs": [
        {
          "output_type": "stream",
          "name": "stdout",
          "text": [
            "多路召回合并...\n"
          ]
        },
        {
          "output_type": "stream",
          "name": "stderr",
          "text": [
            "100%|██████████| 3/3 [00:00<00:00, 49.83it/s]"
          ]
        },
        {
          "output_type": "stream",
          "name": "stdout",
          "text": [
            "itemcf_sim_itemcf_recall...\n",
            "embedding_sim_item_recall...\n",
            "cold_start_recall...\n"
          ]
        },
        {
          "output_type": "stream",
          "name": "stderr",
          "text": [
            "\n"
          ]
        }
      ],
      "source": [
        "# After merging, each user will have 5 recalled items sorted.\n",
        "final_recall_items_dict_rank = combine_recall_results(user_multi_recall_dict, weight_dict, topk=150)"
      ]
    },
    {
      "cell_type": "code",
      "source": [
        "multi_recall_score_list = []\n",
        "\n",
        "for user, items in tqdm(final_recall_items_dict_rank.items()):\n",
        "    if isinstance(items, (list, tuple)):  # To ensure that items is iterable in Python\n",
        "        for item, score in items:\n",
        "            multi_recall_score_list.append([user, item, score])\n",
        "    else:\n",
        "        print(f\"Error: items for user {user} is not iterable\")\n",
        "\n",
        "recall_df = pd.DataFrame(multi_recall_score_list, columns=['user_id', 'click_article_id', 'pred_score'])\n"
      ],
      "metadata": {
        "colab": {
          "base_uri": "https://localhost:8080/"
        },
        "id": "3A7ymTvWT9d8",
        "outputId": "7577533a-9bfa-43db-aa38-ef5fd45b2ca8"
      },
      "execution_count": null,
      "outputs": [
        {
          "output_type": "stream",
          "name": "stderr",
          "text": [
            "100%|██████████| 362/362 [00:00<00:00, 637.11it/s]\n"
          ]
        }
      ]
    },
    {
      "cell_type": "code",
      "source": [
        "def submit(recall_df, topk=5, model_name=None):\n",
        "    # Sort the DataFrame by 'user_id' and 'pred_score' columns\n",
        "    recall_df = recall_df.sort_values(by=['user_id', 'pred_score'])\n",
        "\n",
        "    # Add a 'rank' column indicating each user's prediction ranking\n",
        "    recall_df['rank'] = recall_df.groupby(['user_id'])['pred_score'].rank(ascending=False, method='first')\n",
        "\n",
        "    # Check if each user has at least 'topk' articles\n",
        "    tmp = recall_df.groupby('user_id').apply(lambda x: x['rank'].max())\n",
        "    assert tmp.min() >= topk\n",
        "\n",
        "    # Delete the 'pred_score' column\n",
        "    del recall_df['pred_score']\n",
        "\n",
        "    # Select the top 'topk' predictions for each user and reshape the DataFrame\n",
        "    submit = recall_df[recall_df['rank'] <= topk].set_index(['user_id', 'rank']).unstack(-1).reset_index()\n",
        "\n",
        "    # Rename columns according to the submission format\n",
        "    submit.columns = [int(col) if isinstance(col, int) else col for col in submit.columns.droplevel(0)]\n",
        "    submit = submit.rename(columns={'': 'user_id', 1: 'article_1', 2: 'article_2',\n",
        "                                    3: 'article_3', 4: 'article_4', 5: 'article_5'})\n",
        "\n",
        "    # Generate the filename for saving the CSV file\n",
        "    save_name = save_path + model_name + '_' + datetime.today().strftime('%m-%d') + '.csv'\n",
        "\n",
        "    # Save the DataFrame as a CSV file, without the index, and include header information\n",
        "    submit.to_csv(save_name, index=False, header=True)\n",
        "\n",
        "    return submit\n"
      ],
      "metadata": {
        "id": "gHLiRw8iURiN"
      },
      "execution_count": null,
      "outputs": []
    },
    {
      "cell_type": "code",
      "source": [
        "recall_df['click_article_id'] = recall_df['click_article_id'].astype(int)\n",
        "submit(recall_df, topk=5, model_name='multiple_recall')"
      ],
      "metadata": {
        "colab": {
          "base_uri": "https://localhost:8080/",
          "height": 423
        },
        "id": "FvUEOFnhVWE9",
        "outputId": "ddfc4b03-fee2-4c5e-a240-e351c48b7a81"
      },
      "execution_count": null,
      "outputs": [
        {
          "output_type": "execute_result",
          "data": {
            "text/plain": [
              "     user_id  article_1  article_2  article_3  article_4  article_5\n",
              "0        804     244851     245077     245004     244936     243557\n",
              "1       1139      30955      28747     245195      22024     245702\n",
              "2       1630     206960     353849     203386     158772     149690\n",
              "3       2228     289197     332517     332188     331070     328867\n",
              "4       2871     332517     331583     332188     331070     328867\n",
              "..       ...        ...        ...        ...        ...        ...\n",
              "357   197976     286008     284464     285196     282249     279593\n",
              "358   197980      30752     332517      31655     331583      30739\n",
              "359   198115     284603      59069     237621      42223     235297\n",
              "360   198372     161446     107196     162338     160132     160450\n",
              "361   198491     206194     118868      30752     277253      31655\n",
              "\n",
              "[362 rows x 6 columns]"
            ],
            "text/html": [
              "\n",
              "  <div id=\"df-01cea3d9-97e8-47ce-9821-b3fe1e552a97\" class=\"colab-df-container\">\n",
              "    <div>\n",
              "<style scoped>\n",
              "    .dataframe tbody tr th:only-of-type {\n",
              "        vertical-align: middle;\n",
              "    }\n",
              "\n",
              "    .dataframe tbody tr th {\n",
              "        vertical-align: top;\n",
              "    }\n",
              "\n",
              "    .dataframe thead th {\n",
              "        text-align: right;\n",
              "    }\n",
              "</style>\n",
              "<table border=\"1\" class=\"dataframe\">\n",
              "  <thead>\n",
              "    <tr style=\"text-align: right;\">\n",
              "      <th></th>\n",
              "      <th>user_id</th>\n",
              "      <th>article_1</th>\n",
              "      <th>article_2</th>\n",
              "      <th>article_3</th>\n",
              "      <th>article_4</th>\n",
              "      <th>article_5</th>\n",
              "    </tr>\n",
              "  </thead>\n",
              "  <tbody>\n",
              "    <tr>\n",
              "      <th>0</th>\n",
              "      <td>804</td>\n",
              "      <td>244851</td>\n",
              "      <td>245077</td>\n",
              "      <td>245004</td>\n",
              "      <td>244936</td>\n",
              "      <td>243557</td>\n",
              "    </tr>\n",
              "    <tr>\n",
              "      <th>1</th>\n",
              "      <td>1139</td>\n",
              "      <td>30955</td>\n",
              "      <td>28747</td>\n",
              "      <td>245195</td>\n",
              "      <td>22024</td>\n",
              "      <td>245702</td>\n",
              "    </tr>\n",
              "    <tr>\n",
              "      <th>2</th>\n",
              "      <td>1630</td>\n",
              "      <td>206960</td>\n",
              "      <td>353849</td>\n",
              "      <td>203386</td>\n",
              "      <td>158772</td>\n",
              "      <td>149690</td>\n",
              "    </tr>\n",
              "    <tr>\n",
              "      <th>3</th>\n",
              "      <td>2228</td>\n",
              "      <td>289197</td>\n",
              "      <td>332517</td>\n",
              "      <td>332188</td>\n",
              "      <td>331070</td>\n",
              "      <td>328867</td>\n",
              "    </tr>\n",
              "    <tr>\n",
              "      <th>4</th>\n",
              "      <td>2871</td>\n",
              "      <td>332517</td>\n",
              "      <td>331583</td>\n",
              "      <td>332188</td>\n",
              "      <td>331070</td>\n",
              "      <td>328867</td>\n",
              "    </tr>\n",
              "    <tr>\n",
              "      <th>...</th>\n",
              "      <td>...</td>\n",
              "      <td>...</td>\n",
              "      <td>...</td>\n",
              "      <td>...</td>\n",
              "      <td>...</td>\n",
              "      <td>...</td>\n",
              "    </tr>\n",
              "    <tr>\n",
              "      <th>357</th>\n",
              "      <td>197976</td>\n",
              "      <td>286008</td>\n",
              "      <td>284464</td>\n",
              "      <td>285196</td>\n",
              "      <td>282249</td>\n",
              "      <td>279593</td>\n",
              "    </tr>\n",
              "    <tr>\n",
              "      <th>358</th>\n",
              "      <td>197980</td>\n",
              "      <td>30752</td>\n",
              "      <td>332517</td>\n",
              "      <td>31655</td>\n",
              "      <td>331583</td>\n",
              "      <td>30739</td>\n",
              "    </tr>\n",
              "    <tr>\n",
              "      <th>359</th>\n",
              "      <td>198115</td>\n",
              "      <td>284603</td>\n",
              "      <td>59069</td>\n",
              "      <td>237621</td>\n",
              "      <td>42223</td>\n",
              "      <td>235297</td>\n",
              "    </tr>\n",
              "    <tr>\n",
              "      <th>360</th>\n",
              "      <td>198372</td>\n",
              "      <td>161446</td>\n",
              "      <td>107196</td>\n",
              "      <td>162338</td>\n",
              "      <td>160132</td>\n",
              "      <td>160450</td>\n",
              "    </tr>\n",
              "    <tr>\n",
              "      <th>361</th>\n",
              "      <td>198491</td>\n",
              "      <td>206194</td>\n",
              "      <td>118868</td>\n",
              "      <td>30752</td>\n",
              "      <td>277253</td>\n",
              "      <td>31655</td>\n",
              "    </tr>\n",
              "  </tbody>\n",
              "</table>\n",
              "<p>362 rows × 6 columns</p>\n",
              "</div>\n",
              "    <div class=\"colab-df-buttons\">\n",
              "\n",
              "  <div class=\"colab-df-container\">\n",
              "    <button class=\"colab-df-convert\" onclick=\"convertToInteractive('df-01cea3d9-97e8-47ce-9821-b3fe1e552a97')\"\n",
              "            title=\"Convert this dataframe to an interactive table.\"\n",
              "            style=\"display:none;\">\n",
              "\n",
              "  <svg xmlns=\"http://www.w3.org/2000/svg\" height=\"24px\" viewBox=\"0 -960 960 960\">\n",
              "    <path d=\"M120-120v-720h720v720H120Zm60-500h600v-160H180v160Zm220 220h160v-160H400v160Zm0 220h160v-160H400v160ZM180-400h160v-160H180v160Zm440 0h160v-160H620v160ZM180-180h160v-160H180v160Zm440 0h160v-160H620v160Z\"/>\n",
              "  </svg>\n",
              "    </button>\n",
              "\n",
              "  <style>\n",
              "    .colab-df-container {\n",
              "      display:flex;\n",
              "      gap: 12px;\n",
              "    }\n",
              "\n",
              "    .colab-df-convert {\n",
              "      background-color: #E8F0FE;\n",
              "      border: none;\n",
              "      border-radius: 50%;\n",
              "      cursor: pointer;\n",
              "      display: none;\n",
              "      fill: #1967D2;\n",
              "      height: 32px;\n",
              "      padding: 0 0 0 0;\n",
              "      width: 32px;\n",
              "    }\n",
              "\n",
              "    .colab-df-convert:hover {\n",
              "      background-color: #E2EBFA;\n",
              "      box-shadow: 0px 1px 2px rgba(60, 64, 67, 0.3), 0px 1px 3px 1px rgba(60, 64, 67, 0.15);\n",
              "      fill: #174EA6;\n",
              "    }\n",
              "\n",
              "    .colab-df-buttons div {\n",
              "      margin-bottom: 4px;\n",
              "    }\n",
              "\n",
              "    [theme=dark] .colab-df-convert {\n",
              "      background-color: #3B4455;\n",
              "      fill: #D2E3FC;\n",
              "    }\n",
              "\n",
              "    [theme=dark] .colab-df-convert:hover {\n",
              "      background-color: #434B5C;\n",
              "      box-shadow: 0px 1px 3px 1px rgba(0, 0, 0, 0.15);\n",
              "      filter: drop-shadow(0px 1px 2px rgba(0, 0, 0, 0.3));\n",
              "      fill: #FFFFFF;\n",
              "    }\n",
              "  </style>\n",
              "\n",
              "    <script>\n",
              "      const buttonEl =\n",
              "        document.querySelector('#df-01cea3d9-97e8-47ce-9821-b3fe1e552a97 button.colab-df-convert');\n",
              "      buttonEl.style.display =\n",
              "        google.colab.kernel.accessAllowed ? 'block' : 'none';\n",
              "\n",
              "      async function convertToInteractive(key) {\n",
              "        const element = document.querySelector('#df-01cea3d9-97e8-47ce-9821-b3fe1e552a97');\n",
              "        const dataTable =\n",
              "          await google.colab.kernel.invokeFunction('convertToInteractive',\n",
              "                                                    [key], {});\n",
              "        if (!dataTable) return;\n",
              "\n",
              "        const docLinkHtml = 'Like what you see? Visit the ' +\n",
              "          '<a target=\"_blank\" href=https://colab.research.google.com/notebooks/data_table.ipynb>data table notebook</a>'\n",
              "          + ' to learn more about interactive tables.';\n",
              "        element.innerHTML = '';\n",
              "        dataTable['output_type'] = 'display_data';\n",
              "        await google.colab.output.renderOutput(dataTable, element);\n",
              "        const docLink = document.createElement('div');\n",
              "        docLink.innerHTML = docLinkHtml;\n",
              "        element.appendChild(docLink);\n",
              "      }\n",
              "    </script>\n",
              "  </div>\n",
              "\n",
              "\n",
              "<div id=\"df-915e28ea-4c08-4461-af44-3b4bc3139510\">\n",
              "  <button class=\"colab-df-quickchart\" onclick=\"quickchart('df-915e28ea-4c08-4461-af44-3b4bc3139510')\"\n",
              "            title=\"Suggest charts\"\n",
              "            style=\"display:none;\">\n",
              "\n",
              "<svg xmlns=\"http://www.w3.org/2000/svg\" height=\"24px\"viewBox=\"0 0 24 24\"\n",
              "     width=\"24px\">\n",
              "    <g>\n",
              "        <path d=\"M19 3H5c-1.1 0-2 .9-2 2v14c0 1.1.9 2 2 2h14c1.1 0 2-.9 2-2V5c0-1.1-.9-2-2-2zM9 17H7v-7h2v7zm4 0h-2V7h2v10zm4 0h-2v-4h2v4z\"/>\n",
              "    </g>\n",
              "</svg>\n",
              "  </button>\n",
              "\n",
              "<style>\n",
              "  .colab-df-quickchart {\n",
              "      --bg-color: #E8F0FE;\n",
              "      --fill-color: #1967D2;\n",
              "      --hover-bg-color: #E2EBFA;\n",
              "      --hover-fill-color: #174EA6;\n",
              "      --disabled-fill-color: #AAA;\n",
              "      --disabled-bg-color: #DDD;\n",
              "  }\n",
              "\n",
              "  [theme=dark] .colab-df-quickchart {\n",
              "      --bg-color: #3B4455;\n",
              "      --fill-color: #D2E3FC;\n",
              "      --hover-bg-color: #434B5C;\n",
              "      --hover-fill-color: #FFFFFF;\n",
              "      --disabled-bg-color: #3B4455;\n",
              "      --disabled-fill-color: #666;\n",
              "  }\n",
              "\n",
              "  .colab-df-quickchart {\n",
              "    background-color: var(--bg-color);\n",
              "    border: none;\n",
              "    border-radius: 50%;\n",
              "    cursor: pointer;\n",
              "    display: none;\n",
              "    fill: var(--fill-color);\n",
              "    height: 32px;\n",
              "    padding: 0;\n",
              "    width: 32px;\n",
              "  }\n",
              "\n",
              "  .colab-df-quickchart:hover {\n",
              "    background-color: var(--hover-bg-color);\n",
              "    box-shadow: 0 1px 2px rgba(60, 64, 67, 0.3), 0 1px 3px 1px rgba(60, 64, 67, 0.15);\n",
              "    fill: var(--button-hover-fill-color);\n",
              "  }\n",
              "\n",
              "  .colab-df-quickchart-complete:disabled,\n",
              "  .colab-df-quickchart-complete:disabled:hover {\n",
              "    background-color: var(--disabled-bg-color);\n",
              "    fill: var(--disabled-fill-color);\n",
              "    box-shadow: none;\n",
              "  }\n",
              "\n",
              "  .colab-df-spinner {\n",
              "    border: 2px solid var(--fill-color);\n",
              "    border-color: transparent;\n",
              "    border-bottom-color: var(--fill-color);\n",
              "    animation:\n",
              "      spin 1s steps(1) infinite;\n",
              "  }\n",
              "\n",
              "  @keyframes spin {\n",
              "    0% {\n",
              "      border-color: transparent;\n",
              "      border-bottom-color: var(--fill-color);\n",
              "      border-left-color: var(--fill-color);\n",
              "    }\n",
              "    20% {\n",
              "      border-color: transparent;\n",
              "      border-left-color: var(--fill-color);\n",
              "      border-top-color: var(--fill-color);\n",
              "    }\n",
              "    30% {\n",
              "      border-color: transparent;\n",
              "      border-left-color: var(--fill-color);\n",
              "      border-top-color: var(--fill-color);\n",
              "      border-right-color: var(--fill-color);\n",
              "    }\n",
              "    40% {\n",
              "      border-color: transparent;\n",
              "      border-right-color: var(--fill-color);\n",
              "      border-top-color: var(--fill-color);\n",
              "    }\n",
              "    60% {\n",
              "      border-color: transparent;\n",
              "      border-right-color: var(--fill-color);\n",
              "    }\n",
              "    80% {\n",
              "      border-color: transparent;\n",
              "      border-right-color: var(--fill-color);\n",
              "      border-bottom-color: var(--fill-color);\n",
              "    }\n",
              "    90% {\n",
              "      border-color: transparent;\n",
              "      border-bottom-color: var(--fill-color);\n",
              "    }\n",
              "  }\n",
              "</style>\n",
              "\n",
              "  <script>\n",
              "    async function quickchart(key) {\n",
              "      const quickchartButtonEl =\n",
              "        document.querySelector('#' + key + ' button');\n",
              "      quickchartButtonEl.disabled = true;  // To prevent multiple clicks.\n",
              "      quickchartButtonEl.classList.add('colab-df-spinner');\n",
              "      try {\n",
              "        const charts = await google.colab.kernel.invokeFunction(\n",
              "            'suggestCharts', [key], {});\n",
              "      } catch (error) {\n",
              "        console.error('Error during call to suggestCharts:', error);\n",
              "      }\n",
              "      quickchartButtonEl.classList.remove('colab-df-spinner');\n",
              "      quickchartButtonEl.classList.add('colab-df-quickchart-complete');\n",
              "    }\n",
              "    (() => {\n",
              "      let quickchartButtonEl =\n",
              "        document.querySelector('#df-915e28ea-4c08-4461-af44-3b4bc3139510 button');\n",
              "      quickchartButtonEl.style.display =\n",
              "        google.colab.kernel.accessAllowed ? 'block' : 'none';\n",
              "    })();\n",
              "  </script>\n",
              "</div>\n",
              "    </div>\n",
              "  </div>\n"
            ],
            "application/vnd.google.colaboratory.intrinsic+json": {
              "type": "dataframe",
              "summary": "{\n  \"name\": \"submit(recall_df, topk=5, model_name='multiple_recall')\",\n  \"rows\": 362,\n  \"fields\": [\n    {\n      \"column\": \"user_id\",\n      \"properties\": {\n        \"dtype\": \"number\",\n        \"std\": 54793,\n        \"min\": 804,\n        \"max\": 198491,\n        \"num_unique_values\": 362,\n        \"samples\": [\n          119540,\n          34330,\n          18188\n        ],\n        \"semantic_type\": \"\",\n        \"description\": \"\"\n      }\n    },\n    {\n      \"column\": \"article_1\",\n      \"properties\": {\n        \"dtype\": \"number\",\n        \"std\": 96451,\n        \"min\": 2834,\n        \"max\": 356845,\n        \"num_unique_values\": 244,\n        \"samples\": [\n          50539,\n          161922,\n          168612\n        ],\n        \"semantic_type\": \"\",\n        \"description\": \"\"\n      }\n    },\n    {\n      \"column\": \"article_2\",\n      \"properties\": {\n        \"dtype\": \"number\",\n        \"std\": 101846,\n        \"min\": 3753,\n        \"max\": 362272,\n        \"num_unique_values\": 272,\n        \"samples\": [\n          279550,\n          107909,\n          48712\n        ],\n        \"semantic_type\": \"\",\n        \"description\": \"\"\n      }\n    },\n    {\n      \"column\": \"article_3\",\n      \"properties\": {\n        \"dtype\": \"number\",\n        \"std\": 98351,\n        \"min\": 4523,\n        \"max\": 355156,\n        \"num_unique_values\": 283,\n        \"samples\": [\n          42492,\n          268529,\n          198942\n        ],\n        \"semantic_type\": \"\",\n        \"description\": \"\"\n      }\n    },\n    {\n      \"column\": \"article_4\",\n      \"properties\": {\n        \"dtype\": \"number\",\n        \"std\": 97979,\n        \"min\": 4896,\n        \"max\": 357555,\n        \"num_unique_values\": 300,\n        \"samples\": [\n          8030,\n          124748,\n          297826\n        ],\n        \"semantic_type\": \"\",\n        \"description\": \"\"\n      }\n    },\n    {\n      \"column\": \"article_5\",\n      \"properties\": {\n        \"dtype\": \"number\",\n        \"std\": 100679,\n        \"min\": 4964,\n        \"max\": 363910,\n        \"num_unique_values\": 308,\n        \"samples\": [\n          20323,\n          42236,\n          191069\n        ],\n        \"semantic_type\": \"\",\n        \"description\": \"\"\n      }\n    }\n  ]\n}"
            }
          },
          "metadata": {},
          "execution_count": 47
        }
      ]
    }
  ],
  "metadata": {
    "colab": {
      "provenance": [],
      "include_colab_link": true
    },
    "kernelspec": {
      "display_name": "Python 3",
      "name": "python3"
    },
    "language_info": {
      "codemirror_mode": {
        "name": "ipython",
        "version": 3
      },
      "file_extension": ".py",
      "mimetype": "text/x-python",
      "name": "python",
      "nbconvert_exporter": "python",
      "pygments_lexer": "ipython3",
      "version": "3.7.12"
    },
    "latex_envs": {
      "LaTeX_envs_menu_present": true,
      "autoclose": false,
      "autocomplete": true,
      "bibliofile": "biblio.bib",
      "cite_by": "apalike",
      "current_citInitial": 1,
      "eqLabelWithNumbers": true,
      "eqNumInitial": 1,
      "hotkeys": {
        "equation": "Ctrl-E",
        "itemize": "Ctrl-I"
      },
      "labels_anchors": false,
      "latex_user_defs": false,
      "report_style_numbering": false,
      "user_envs_cfg": false
    },
    "max_cell_id": 84,
    "nbTranslate": {
      "displayLangs": [
        "*"
      ],
      "hotkey": "alt-t",
      "langInMainMenu": true,
      "sourceLang": "en",
      "targetLang": "fr",
      "useGoogleTranslate": true
    },
    "tianchi_metadata": {
      "competitions": [],
      "datasets": [
        {
          "id": "83580",
          "title": "零基础入门推荐系统 - 新闻推荐"
        }
      ],
      "description": "",
      "notebookId": "130009",
      "source": "dsw"
    },
    "toc": {
      "base_numbering": 1,
      "nav_menu": {},
      "number_sections": true,
      "sideBar": true,
      "skip_h1_title": false,
      "title_cell": "Table of Contents",
      "title_sidebar": "Contents",
      "toc_cell": false,
      "toc_position": {
        "height": "595px",
        "left": "61px",
        "top": "67px",
        "width": "174px"
      },
      "toc_section_display": true,
      "toc_window_display": false
    },
    "varInspector": {
      "cols": {
        "lenName": 16,
        "lenType": 16,
        "lenVar": 40
      },
      "kernels_config": {
        "python": {
          "delete_cmd_postfix": "",
          "delete_cmd_prefix": "del ",
          "library": "var_list.py",
          "varRefreshCmd": "print(var_dic_list())"
        },
        "r": {
          "delete_cmd_postfix": ") ",
          "delete_cmd_prefix": "rm(",
          "library": "var_list.r",
          "varRefreshCmd": "cat(var_dic_list()) "
        }
      },
      "types_to_exclude": [
        "module",
        "function",
        "builtin_function_or_method",
        "instance",
        "_Feature"
      ],
      "window_display": false
    }
  },
  "nbformat": 4,
  "nbformat_minor": 0
}